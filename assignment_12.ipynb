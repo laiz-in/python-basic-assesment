{
 "cells": [
  {
   "attachments": {},
   "cell_type": "markdown",
   "metadata": {},
   "source": [
    "# 1. In what modes should the PdfFileReader() and PdfFileWriter() File objects will be opened?"
   ]
  },
  {
   "attachments": {},
   "cell_type": "markdown",
   "metadata": {},
   "source": [
    "* PdfFileWriter() should be opened in 'wb' mode - also known as write binary mode\n",
    "\n",
    "* PdfFileReader() should be opened in 'rb' mode - also known as read binary mode"
   ]
  },
  {
   "cell_type": "code",
   "execution_count": 2,
   "metadata": {},
   "outputs": [],
   "source": [
    "from PyPDF2 import PdfFileReader\n",
    "\n",
    "with open('file.pdf', 'rb') as file:\n",
    "    pdf= PdfFileReader(file)\n",
    "    #this pdf is opened with read binary mode\n",
    "\n",
    "\n",
    "from PyPDF2 import PdfFileWriter\n",
    "\n",
    "with open('file.pdf', 'wb') as file:\n",
    "    pdf= PdfFileWriter(file)\n",
    "    pdf.write(file)\n",
    "    #this pdf is opened with write binary mode"
   ]
  },
  {
   "attachments": {},
   "cell_type": "markdown",
   "metadata": {},
   "source": [
    "# 2. From a PdfFileReader object, how do you get a Page object for page 5?\n",
    "\n"
   ]
  },
  {
   "attachments": {},
   "cell_type": "markdown",
   "metadata": {},
   "source": [
    "* getPage() mathod can be used for getting a specific page"
   ]
  },
  {
   "cell_type": "code",
   "execution_count": null,
   "metadata": {},
   "outputs": [],
   "source": [
    "from PyPDF2 import PdfFileReader\n",
    "\n",
    "with open('file.pdf', 'rb') as file:\n",
    "    pdf = PdfFileReader(file)\n",
    "    page_num= 4 \n",
    "    #give 4 because index starts with 0\n",
    "    page_object = pdf.getPage(page_num)\n"
   ]
  },
  {
   "attachments": {},
   "cell_type": "markdown",
   "metadata": {},
   "source": [
    "# 3. What PdfFileReader variable stores the number of pages in the PDF document?\n",
    "\n"
   ]
  },
  {
   "attachments": {},
   "cell_type": "markdown",
   "metadata": {},
   "source": [
    "* numPages attribute stores the total pages of a pdf"
   ]
  },
  {
   "cell_type": "code",
   "execution_count": null,
   "metadata": {},
   "outputs": [],
   "source": [
    "from PyPDF2 import PdfFileReader\n",
    "\n",
    "with open('file.pdf', 'rb') as file:\n",
    "    pdf = PdfFileReader(file)\n",
    "    total_page = pdf.numPages\n",
    "    #here the total pages will be accessed with pdf.numPages attribute"
   ]
  },
  {
   "attachments": {},
   "cell_type": "markdown",
   "metadata": {},
   "source": [
    "# 4. If a PdfFileReader object’s PDF is encrypted with the password swordfish, what must you do before you can obtain Page objects from it?"
   ]
  },
  {
   "attachments": {},
   "cell_type": "markdown",
   "metadata": {},
   "source": [
    "* we need to decrypt the PDF using the given password"
   ]
  },
  {
   "cell_type": "code",
   "execution_count": null,
   "metadata": {},
   "outputs": [],
   "source": [
    "from PyPDF2 import PdfFileReader\n",
    "\n",
    "with open('file.pdf', 'rb') as file:\n",
    "    pdf = PdfFileReader(file)\n",
    "    \n",
    "    #if statement returns True is the PDF is encrypted\n",
    "    if pdf.isEncrypted:\n",
    "        pdf.decrypt('swordfish')\n",
    "        #decrypt using the given password\n",
    "    \n"
   ]
  },
  {
   "attachments": {},
   "cell_type": "markdown",
   "metadata": {},
   "source": [
    "# 5. What methods do you use to rotate a page?\n"
   ]
  },
  {
   "cell_type": "code",
   "execution_count": null,
   "metadata": {},
   "outputs": [],
   "source": [
    "from PyPDF2 import PdfFileReader\n",
    "\n",
    "# Open the PDF file\n",
    "with open('file.pdf', 'rb') as file:\n",
    "    pdf = PdfFileReader(file)\n",
    "    page = pdf.getPage(0) \n",
    "\n",
    "    page.rotateClockwise(45)\n",
    "    #rotate the page in 45 degree\n",
    "\n",
    "\n"
   ]
  },
  {
   "attachments": {},
   "cell_type": "markdown",
   "metadata": {},
   "source": [
    "# 6. What is the difference between a Run object and a Paragraph object?\n"
   ]
  },
  {
   "attachments": {},
   "cell_type": "markdown",
   "metadata": {},
   "source": [
    "paragraph object represents a block of text with consistent formatting, while a Run object represents a portion of text within a paragraph with specific formatting. \n",
    "\n",
    "By combining Paragraph and Run objects, you can create structured and formatted documents with different styles and variations in the text.\n",
    "\n",
    "* a word or phrase can be said as a run object\n",
    "\n",
    "* bullet point or heading or a paragraph can be said as paragraph object"
   ]
  },
  {
   "attachments": {},
   "cell_type": "markdown",
   "metadata": {},
   "source": [
    "# 7. How do you obtain a list of Paragraph objects for a Document object that’s stored in a variable named doc?\n"
   ]
  },
  {
   "cell_type": "code",
   "execution_count": null,
   "metadata": {},
   "outputs": [],
   "source": [
    "import PyPDF2\n",
    "doc = open('doc.pdf', 'rb')\n",
    "pdf_reader = PyPDF2.PdfFileReader(doc)\n",
    "\n",
    "paragraphs = []\n",
    "for page_num in range(pdf_reader.numPages):\n",
    "    page = pdf_reader.getPage(page_num)\n",
    "    text = page.extract_text()\n",
    "    paragraphs.append(text)\n",
    "\n",
    "#paragraph variable will be the list contains paragraph objects"
   ]
  },
  {
   "attachments": {},
   "cell_type": "markdown",
   "metadata": {},
   "source": [
    "# 8. What type of object has bold, underline, italic, strike, and outline variables?"
   ]
  },
  {
   "attachments": {},
   "cell_type": "markdown",
   "metadata": {},
   "source": [
    " if we need access to text styling attributes in PDF documents, we may need to explore other libraries or tools that offer more advanced text extraction and formatting capabilities, such as PyMuPDF, pdfminer.six, or PDFBox . PyPDF2 is used for only pdf parsing and extraction\n",
    " "
   ]
  },
  {
   "attachments": {},
   "cell_type": "markdown",
   "metadata": {},
   "source": [
    "# 9. What is the difference between False, True, and None for the bold variable?"
   ]
  },
  {
   "attachments": {},
   "cell_type": "markdown",
   "metadata": {},
   "source": [
    "True: Text is set to be bold\n",
    "\n",
    "\n",
    "False: Text is set not to be bold\n",
    "\n",
    "\n",
    "none: Text will follow the default styling . bold or not bold is not set explicitly"
   ]
  },
  {
   "attachments": {},
   "cell_type": "markdown",
   "metadata": {},
   "source": [
    "# 10. How do you create a Document object for a new Word document?\n",
    "\n"
   ]
  },
  {
   "cell_type": "code",
   "execution_count": null,
   "metadata": {},
   "outputs": [],
   "source": [
    "from docx import Document\n",
    "#need to pip install docx\n",
    "\n",
    "\n",
    "#create a new word document\n",
    "doc = Document()\n",
    "\n",
    "#content for the document\n",
    "doc.add_heading('heading for the document', level=1)\n",
    "doc.add_paragraph('first paragraph for the text.')\n",
    "doc.add_paragraph('second paragraph for the text')\n",
    "\n",
    "# Save the document using doc.save(filename.docx)\n",
    "doc.save('my_document.docx')\n"
   ]
  },
  {
   "attachments": {},
   "cell_type": "markdown",
   "metadata": {},
   "source": [
    "# 11. How do you add a paragraph with the text 'Hello, there!' to a Document object stored in a variable named doc?\n",
    "\n"
   ]
  },
  {
   "cell_type": "code",
   "execution_count": null,
   "metadata": {},
   "outputs": [],
   "source": [
    "from docx import Document\n",
    "\n",
    "#open the document to the doc variable\n",
    "doc = Document('my_document.docx')\n",
    "\n",
    "#add text 'Hello, there!'\n",
    "doc.add_paragraph('Hello, there!')\n",
    "\n",
    "#save the doc\n",
    "doc.save('my_document.docx')\n"
   ]
  },
  {
   "attachments": {},
   "cell_type": "markdown",
   "metadata": {},
   "source": [
    "# 12. What integers represent the levels of headings available in Word documents?"
   ]
  },
  {
   "cell_type": "code",
   "execution_count": null,
   "metadata": {},
   "outputs": [],
   "source": [
    "from docx import Document\n",
    "\n",
    "doc = Document('my_document.docx')\n",
    "\n",
    "#add paragraph as Heading Level 1 with the text 'Hello, there!'\n",
    "paragraph = doc.add_paragraph('Hello, there!')\n",
    "paragraph.style = 'Heading 1'\n",
    "# Heading 1 , Heading 2, Heading 3...are defining the levels of headings\n",
    "\n",
    "\n",
    "\n",
    "#save document\n",
    "doc.save('my_modified_document.docx')\n"
   ]
  }
 ],
 "metadata": {
  "kernelspec": {
   "display_name": "Python 3",
   "language": "python",
   "name": "python3"
  },
  "language_info": {
   "codemirror_mode": {
    "name": "ipython",
    "version": 3
   },
   "file_extension": ".py",
   "mimetype": "text/x-python",
   "name": "python",
   "nbconvert_exporter": "python",
   "pygments_lexer": "ipython3",
   "version": "3.9.10"
  },
  "orig_nbformat": 4
 },
 "nbformat": 4,
 "nbformat_minor": 2
}

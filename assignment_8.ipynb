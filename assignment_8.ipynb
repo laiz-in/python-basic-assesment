{
 "cells": [
  {
   "cell_type": "markdown",
   "metadata": {},
   "source": [
    "## 1. Is the Python Standard Library included with PyInputPlus?\n",
    "\n"
   ]
  },
  {
   "cell_type": "markdown",
   "metadata": {},
   "source": [
    ">PyInputPlus is not included with the Python Standard Library. It is a third-party module that can be installed separately"
   ]
  },
  {
   "cell_type": "code",
   "execution_count": 3,
   "metadata": {},
   "outputs": [
    {
     "name": "stdout",
     "output_type": "stream",
     "text": [
      "Enter an number: You entered: 52\n"
     ]
    }
   ],
   "source": [
    "#install command is - pip install pyinputplus\n",
    "\n",
    "#import the module in code\n",
    "import pyinputplus as pyip\n",
    "\n",
    "#this allows input only an integer and between 1 - 100\n",
    "num = pyip.inputInt(prompt='Enter an number: ', min=1, max=100)\n",
    "print(f\"You entered: {num}\")\n"
   ]
  },
  {
   "cell_type": "markdown",
   "metadata": {},
   "source": [
    "## 2. Why is PyInputPlus commonly imported with import pyinputplus as pypi?\n",
    "\n"
   ]
  },
  {
   "cell_type": "markdown",
   "metadata": {},
   "source": [
    "Its a common alias used for pyinputplus\n",
    "\n",
    "it makes it easier while using the module in the code"
   ]
  },
  {
   "cell_type": "markdown",
   "metadata": {},
   "source": [
    "## 3. How do you distinguish between inputInt() and inputFloat()?\n",
    "\n"
   ]
  },
  {
   "cell_type": "code",
   "execution_count": 8,
   "metadata": {},
   "outputs": [
    {
     "name": "stdout",
     "output_type": "stream",
     "text": [
      "Enter an integer only : you entered 41\n",
      "Enter a floating point value only : you entered 52.3\n"
     ]
    }
   ],
   "source": [
    "import pyinputplus\n",
    "\n",
    "#allows only integer input\n",
    "IntegerOnly = pyinputplus.inputInt(prompt=\"Enter an integer only : \")\n",
    "print(\"you entered\",(IntegerOnly))\n",
    "\n",
    "#allows only floating point input\n",
    "FloatOnly = pyinputplus.inputFloat(prompt=\"Enter a floating point value only : \")\n",
    "print(\"you entered\",(FloatOnly)) "
   ]
  },
  {
   "cell_type": "markdown",
   "metadata": {},
   "source": [
    "## 4. Using PyInputPlus, how do you ensure that the user enters a whole number between 0 and 99?\n",
    "\n"
   ]
  },
  {
   "cell_type": "code",
   "execution_count": 11,
   "metadata": {},
   "outputs": [
    {
     "name": "stdout",
     "output_type": "stream",
     "text": [
      "Enter an number\n",
      " Number must be at maximum 99.\n",
      "Enter an number\n",
      " Number must be at maximum 99.\n",
      "Enter an number\n",
      " You entered: 97\n"
     ]
    }
   ],
   "source": [
    "\n",
    "#import the module in code\n",
    "import pyinputplus as pyip\n",
    "\n",
    "#this allows input only an integer and between 0 - 99\n",
    "num = pyip.inputInt(prompt='Enter an number\\n ', min=0, max=99)\n",
    "print(f\"You entered: {num}\")"
   ]
  },
  {
   "cell_type": "markdown",
   "metadata": {},
   "source": [
    "## 5. What is transferred to the keyword arguments allowRegexes and blockRegexes?\n",
    "\n"
   ]
  },
  {
   "cell_type": "markdown",
   "metadata": {},
   "source": [
    "> __allowRegexes__ and __blockRegexes__ keyword arguments are used to restrict the types of input that are allowed by the inputStr() function."
   ]
  },
  {
   "cell_type": "markdown",
   "metadata": {},
   "source": [
    ">The __allowRegexes__ argument is a list of regular expressions that the input must match. If the input does not match any of the regular expressions in the list, the __inputStr()__ function will prompt the user to enter their input again."
   ]
  },
  {
   "cell_type": "markdown",
   "metadata": {},
   "source": [
    ">The __blockRegexes__ argument is a list of regular expressions that the input must not match. If the input matches any of the regular expressions in the list, the __inputStr()__ function will prompt the user to enter their input again."
   ]
  },
  {
   "cell_type": "code",
   "execution_count": 22,
   "metadata": {},
   "outputs": [
    {
     "name": "stdout",
     "output_type": "stream",
     "text": [
      "Enter a number: This response is invalid.\n",
      "Enter a number: You entered: 52\n"
     ]
    }
   ],
   "source": [
    "import pyinputplus\n",
    "\n",
    "# allowRegexes=[r\"^\\d+$\"]  = this is a regex for any digit\n",
    "# lockRegexes=[r\"\\D+\"]   =  this is  regex for non -digit\n",
    "number = pyinputplus.inputStr(prompt=\"Enter a number: \", allowRegexes=[r\"^\\d+$\"], blockRegexes=[r\"\\D+\"])\n",
    "\n",
    "print(\"You entered: {}\".format(number))\n",
    "\n"
   ]
  },
  {
   "cell_type": "markdown",
   "metadata": {},
   "source": [
    "## 6. If a blank input is entered three times, what does inputStr(limit=3) do?\n",
    "\n"
   ]
  },
  {
   "cell_type": "code",
   "execution_count": 27,
   "metadata": {},
   "outputs": [
    {
     "name": "stdout",
     "output_type": "stream",
     "text": [
      "Enter a string: Blank values are not allowed.\n",
      "Enter a string: Blank values are not allowed.\n",
      "Enter a string: Blank values are not allowed.\n",
      "You reached the retry limit. Exiting.\n"
     ]
    }
   ],
   "source": [
    "import pyinputplus as pyip\n",
    "\n",
    "try:\n",
    "    result = pyip.inputStr(prompt=\"Enter a string: \", limit=3)\n",
    "    # when limit=3 , the input allows 3 blank values , and after that it raises the error , we can cvtch that error using a try except block as shown here\n",
    "except pyip.RetryLimitException:\n",
    "    print(\"You reached the retry limit. Exiting.\")\n",
    "else:\n",
    "    print(\"You entered:\", result)\n"
   ]
  },
  {
   "cell_type": "markdown",
   "metadata": {},
   "source": [
    "## 7. If blank input is entered three times, what does inputStr(limit=3, default='hello') do?"
   ]
  },
  {
   "cell_type": "code",
   "execution_count": 35,
   "metadata": {},
   "outputs": [
    {
     "name": "stdout",
     "output_type": "stream",
     "text": [
      "Enter a string: Blank values are not allowed.\n",
      "Enter a string: Blank values are not allowed.\n",
      "Enter a string: Blank values are not allowed.\n",
      "You entered: hello , anyways 3 times you have enetered blank value\n"
     ]
    }
   ],
   "source": [
    "import pyinputplus as pyip\n",
    "\n",
    "result = pyip.inputStr(prompt=\"Enter a string: \", limit=3, default='hello , anyways 3 times you have enetered blank value')\n",
    "# the function will not raise a pyinputplus.RetryLimitException. Instead, it will return the default value provided, which is 'hello'\n",
    "\n",
    "print(\"You entered:\", result)\n"
   ]
  }
 ],
 "metadata": {
  "kernelspec": {
   "display_name": "Python 3",
   "language": "python",
   "name": "python3"
  },
  "language_info": {
   "codemirror_mode": {
    "name": "ipython",
    "version": 3
   },
   "file_extension": ".py",
   "mimetype": "text/x-python",
   "name": "python",
   "nbconvert_exporter": "python",
   "pygments_lexer": "ipython3",
   "version": "3.9.10"
  },
  "orig_nbformat": 4
 },
 "nbformat": 4,
 "nbformat_minor": 2
}

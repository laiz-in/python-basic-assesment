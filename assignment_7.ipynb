{
 "cells": [
  {
   "cell_type": "markdown",
   "metadata": {},
   "source": [
    "## 1. What is the name of the feature responsible for generating Regex objects?\n",
    "\n"
   ]
  },
  {
   "cell_type": "markdown",
   "metadata": {},
   "source": [
    ">re.compile() feature is responsible for regex related operations"
   ]
  },
  {
   "cell_type": "markdown",
   "metadata": {},
   "source": [
    "## 2. Why do raw strings often appear in Regex objects?\n",
    "\n"
   ]
  },
  {
   "cell_type": "markdown",
   "metadata": {},
   "source": [
    ">to simplify the handling of backslashes (\\\\) within regex patterns  , because they are escape characters in python"
   ]
  },
  {
   "cell_type": "markdown",
   "metadata": {},
   "source": [
    ">raw strings make the regular expression less difficult to read and understand."
   ]
  },
  {
   "cell_type": "markdown",
   "metadata": {},
   "source": [
    "## 3. What is the return value of the search() method?\n",
    "\n"
   ]
  },
  {
   "cell_type": "code",
   "execution_count": 11,
   "metadata": {},
   "outputs": [
    {
     "name": "stdout",
     "output_type": "stream",
     "text": [
      "The phone number is: 1234567338\n"
     ]
    }
   ],
   "source": [
    "import re\n",
    "\n",
    "\n",
    "phone_regex = re.compile(r\"\\d{10}\")\n",
    "\n",
    "# Search for a phone number in a string\n",
    "match = phone_regex.search(\"My phone number is 1234567338\")\n",
    "#return non if regex is not matched \n",
    "\n",
    "# If the match is not None, then a phone number was found\n",
    "if match:\n",
    "  print(\"The phone number is:\", match.group())\n",
    "  #prints the output only if the search()  returned the substring\n",
    "else:\n",
    "    print(\"string is not matching\")"
   ]
  },
  {
   "cell_type": "markdown",
   "metadata": {},
   "source": [
    "## 4. From a Match item, how do you get the actual strings that match the pattern?\n",
    "\n"
   ]
  },
  {
   "cell_type": "code",
   "execution_count": 18,
   "metadata": {},
   "outputs": [
    {
     "name": "stdout",
     "output_type": "stream",
     "text": [
      "Email: laizin@gmail.com\n",
      "Phone: 1234567890\n"
     ]
    }
   ],
   "source": [
    "import re\n",
    "\n",
    "text = \"this string contains an email id laizin@gmail.com and my phine number 1234567890\"\n",
    "\n",
    "# Define regex patterns for both email and mobile number\n",
    "email_pattern = r'\\S+@\\S+'\n",
    "phone_pattern = r'\\d{10}'\n",
    "\n",
    "# Search for matches\n",
    "email_match = re.search(email_pattern, text)\n",
    "phone_match = re.search(phone_pattern, text)\n",
    "\n",
    "# Use group() to get matched strings\n",
    "if email_match:\n",
    "    email = email_match.group()\n",
    "    print(\"Email:\", email)\n",
    "\n",
    "if phone_match:\n",
    "    phone = phone_match.group()\n",
    "    print(\"Phone:\", phone)\n"
   ]
  },
  {
   "cell_type": "markdown",
   "metadata": {},
   "source": [
    "## 5. In the regex which created from the r'(\\d\\d\\d)-(\\d\\d\\d-\\d\\d\\d\\d)', what does group zero cover? Group 2? Group 1?\n",
    "\n"
   ]
  },
  {
   "cell_type": "code",
   "execution_count": 22,
   "metadata": {},
   "outputs": [
    {
     "name": "stdout",
     "output_type": "stream",
     "text": [
      "Group 0 (Entire Match): 234-333-1236\n",
      "Group 1 (First Three Digits): 234\n",
      "Group 2 (Next Three Digits and Hyphen Followed by Four Digits): 333-1236\n"
     ]
    }
   ],
   "source": [
    "import re\n",
    "\n",
    "text = \"random mobile number is 234-333-1236.\"\n",
    "\n",
    "\n",
    "pattern = r\"(\\d\\d\\d)-(\\d\\d\\d-\\d\\d\\d\\d)\"\n",
    "\n",
    "match = re.search(pattern, text)\n",
    "\n",
    "if match:\n",
    "    #grouop(0) for the enite string that matches \n",
    "    print(\"Group 0 (Entire Match):\", match.group(0))\n",
    "\n",
    "    #group(1) for first subset that lies within the 1st parantheses\n",
    "    print(\"Group 1 (First Three Digits):\", match.group(1))\n",
    "\n",
    "    #group(2) for the second set of parentheses\n",
    "    print(\"Group 2 (Next Three Digits and Hyphen Followed by Four Digits):\", match.group(2))\n"
   ]
  },
  {
   "cell_type": "markdown",
   "metadata": {},
   "source": [
    "## 6. In standard expression syntax, parentheses and intervals have distinct meanings. How can you tell a regex that you want it to fit real parentheses and periods?\n",
    "\n"
   ]
  },
  {
   "cell_type": "markdown",
   "metadata": {},
   "source": [
    "\n",
    ">In regular expressions, parentheses and periods have special meanings. Parentheses are used to group parts of a regular expression, and periods are used to match any character"
   ]
  },
  {
   "cell_type": "code",
   "execution_count": 1,
   "metadata": {},
   "outputs": [
    {
     "data": {
      "text/plain": [
       "'\\\\.'"
      ]
     },
     "execution_count": 1,
     "metadata": {},
     "output_type": "execute_result"
    }
   ],
   "source": [
    "#to fit real parantheses   \n",
    "\n",
    "r\"\\(\\\\.\\\\)*\"\n",
    "\n",
    "#to fit periods\n",
    "\n",
    "r\"\\.\""
   ]
  },
  {
   "cell_type": "markdown",
   "metadata": {},
   "source": [
    "## 7. The findall() method returns a string list or a list of string tuples. What causes it to return one of the two options?\n",
    "\n"
   ]
  },
  {
   "cell_type": "code",
   "execution_count": 4,
   "metadata": {},
   "outputs": [
    {
     "name": "stdout",
     "output_type": "stream",
     "text": [
      "['hello', 'its', 'me', 'checking', 'regex']\n",
      "<class 'list'>\n"
     ]
    }
   ],
   "source": [
    "#findall() method returns a list of strings\n",
    "import re\n",
    "\n",
    "word_regex = re.compile(r\"\\w+\")\n",
    "\n",
    "words = word_regex.findall(\"hello its me checking regex\")\n",
    "\n",
    "print(words)\n",
    "print(type(words))\n"
   ]
  },
  {
   "cell_type": "markdown",
   "metadata": {},
   "source": [
    "## 8. In standard expressions, what does the | character mean?\n",
    "\n"
   ]
  },
  {
   "cell_type": "markdown",
   "metadata": {},
   "source": [
    "> the | character is called the pipe character. It is used to represent the or operator. This means that the regular expression will match if the string matches the left-hand side of the pipe character or the right-hand side of the pipe character"
   ]
  },
  {
   "cell_type": "code",
   "execution_count": 14,
   "metadata": {},
   "outputs": [
    {
     "name": "stdout",
     "output_type": "stream",
     "text": [
      "['messi', 'ronaldo']\n"
     ]
    }
   ],
   "source": [
    "import re\n",
    "\n",
    "#regex fro the words messi adn ronaldo\n",
    "word_regex = re.compile(r\"ronaldo|messi\")\n",
    "\n",
    "words = word_regex.findall(\"both messi and ronaldo are the greatest ever football players\")\n",
    "\n",
    "#words will return a list containg all the strings that matches\n",
    "print(words)\n"
   ]
  },
  {
   "cell_type": "markdown",
   "metadata": {},
   "source": [
    "## 9. In regular expressions, what does the character stand for?\n",
    "\n"
   ]
  },
  {
   "cell_type": "markdown",
   "metadata": {},
   "source": [
    "> didnt get the question"
   ]
  },
  {
   "cell_type": "markdown",
   "metadata": {},
   "source": [
    "## 10.In regular expressions, what is the difference between the + and * characters?\n",
    "\n"
   ]
  },
  {
   "cell_type": "code",
   "execution_count": 15,
   "metadata": {},
   "outputs": [
    {
     "name": "stdout",
     "output_type": "stream",
     "text": [
      "['abbb']\n"
     ]
    }
   ],
   "source": [
    "#The + and * characters in regular expressions are both quantifiers They are used to indicate how many times the preceding character or group of characters can be matched\n",
    "\n",
    "#The + character means \"one or more times\". This means that the regular expression will match if the preceding character or group of characters is matched one or more times\n",
    "\n",
    "#The * character means \"zero or more times\". This means that the regular expression will match if the preceding character or group of characters is matched zero or more times\n",
    "\n",
    "import re\n",
    "\n",
    "#craete a regex \n",
    "ab_regex = re.compile(r\"ab+\")\n",
    "\n",
    "# Find all the strings that match the regular expression\n",
    "strings = ab_regex.findall(\"aabbb\")\n",
    "\n",
    "print(strings)"
   ]
  },
  {
   "cell_type": "code",
   "execution_count": 21,
   "metadata": {},
   "outputs": [
    {
     "name": "stdout",
     "output_type": "stream",
     "text": [
      "['llooooo', 'lloo', 'llo']\n"
     ]
    }
   ],
   "source": [
    "import re\n",
    "\n",
    "#create a regex\n",
    "text_regex = re.compile(r\"lloo*\")\n",
    "\n",
    "# Find all the strings that match the regular expression\n",
    "strings = text_regex.findall(\"hheelllooooo elloo hello\")\n",
    "\n",
    "print(strings)"
   ]
  },
  {
   "cell_type": "markdown",
   "metadata": {},
   "source": [
    "## 11. What is the difference between {4} and {4,5} in regular expression?\n",
    "\n"
   ]
  },
  {
   "cell_type": "code",
   "execution_count": 24,
   "metadata": {},
   "outputs": [
    {
     "name": "stdout",
     "output_type": "stream",
     "text": [
      "Using {3} quantifier: ['aaaa', 'aaaa']\n",
      "Using {2,4} quantifier: ['aa', 'aaa', 'aaaa', 'aaaa']\n"
     ]
    }
   ],
   "source": [
    "# {4} matches the expression if the corresponding element repeats 4 times\n",
    "\n",
    "# {4,5} matches the string if the element repeats 4 or 5 times\n",
    "\n",
    "import re\n",
    "\n",
    "text = \"aa aaa aaaa aaaaa a\"\n",
    "\n",
    "pattern1 = r\"a{4}\"\n",
    "pattern2 = r\"a{2,4}\"\n",
    "\n",
    "#finds all strings where a repeats 4 times only\n",
    "matches1 = re.findall(pattern1, text)\n",
    "\n",
    "#finds all string where a repeats 4 or 2 times\n",
    "matches2 = re.findall(pattern2, text)\n",
    "\n",
    "print(\"Using {3} quantifier:\", matches1)\n",
    "print(\"Using {2,4} quantifier:\", matches2)\n",
    "\n"
   ]
  },
  {
   "cell_type": "markdown",
   "metadata": {},
   "source": [
    "## 12. What do you mean by the \\d, \\w, and \\s shorthand character classes signify in regular expressions?\n",
    "\n"
   ]
  },
  {
   "cell_type": "code",
   "execution_count": 25,
   "metadata": {},
   "outputs": [],
   "source": [
    "\n",
    "#\\d represents a digit character. It matches any single digit from 0 to 9.\n",
    "#It is equivalent to the character class [0-9]\n",
    "\n",
    "\n",
    "#\\w represents a word character. It matches alphanumeric characters (letters and digits) and underscores (_).\n",
    "#It is equivalent to the character class [a-zA-Z0-9_]\n",
    "\n",
    "\n",
    "#\\s represents a whitespace character. It matches any whitespace character, including spaces, tabs, and newline characters.\n",
    "#It is equivalent to the character class [\\t\\n\\r\\f\\v ]\n",
    "\n"
   ]
  },
  {
   "cell_type": "markdown",
   "metadata": {},
   "source": [
    "## 13. What do means by \\D, \\W, and \\S shorthand character classes signify in regular expressions?\n",
    "\n"
   ]
  },
  {
   "cell_type": "markdown",
   "metadata": {},
   "source": [
    "\n",
    "\n",
    "\\D represents a non-digit character. It matches any character that is not a digit (0-9).\n",
    "It is the opposite of \\d.\n",
    "\n",
    "\n",
    "\\W represents a non-word character. It matches any character that is not an alphanumeric character (letter or digit) or an underscore (_).\n",
    "It is the opposite of \\w.\n",
    "\n",
    "\n",
    "\\S represents a non-whitespace character. It matches any character that is not whitespace, including spaces, tabs, and newline characters.\n",
    "It is the opposite of \\s."
   ]
  },
  {
   "cell_type": "markdown",
   "metadata": {},
   "source": [
    "## 14. What is the difference between .*? and .*?\n",
    "\n",
    "\n"
   ]
  },
  {
   "cell_type": "markdown",
   "metadata": {},
   "source": [
    "The .* ? quantifier is a non-greedy quantifier, which means that it will match the shortest possible string that satisfies the regular expression. The .* quantifier is a greedy quantifier, which means that it will match the longest possible string that satisfies the regular expression.\n",
    "\n"
   ]
  },
  {
   "cell_type": "markdown",
   "metadata": {},
   "source": [
    "## 15. What is the syntax for matching both numbers and lowercase letters with a character class?\n",
    "\n"
   ]
  },
  {
   "cell_type": "code",
   "execution_count": 22,
   "metadata": {},
   "outputs": [
    {
     "name": "stdout",
     "output_type": "stream",
     "text": [
      "588gghh\n"
     ]
    }
   ],
   "source": [
    "import re\n",
    "\n",
    "text = \"588gghh\"\n",
    "\n",
    "pattern = r\"[0-9a-z]+$\"\n",
    "matches = re.match(pattern, text)\n",
    "\n",
    "\n",
    "if matches:\n",
    "    print(matches[0])\n",
    "else:\n",
    "    print(\"found that the string contains something other than lower case or digit\")\n"
   ]
  },
  {
   "cell_type": "markdown",
   "metadata": {},
   "source": [
    "## 16. What is the procedure for making a normal expression in regax case insensitive?\n",
    "\n",
    "\n"
   ]
  },
  {
   "cell_type": "code",
   "execution_count": 29,
   "metadata": {},
   "outputs": [
    {
     "name": "stdout",
     "output_type": "stream",
     "text": [
      "Match found: HeLlo\n"
     ]
    }
   ],
   "source": [
    "import re\n",
    "\n",
    "text = \"fgg GHH hgu HHJ HeLlo \"\n",
    "#using IGNORECASE\n",
    "match = re.search(r\"hello\", text, re.IGNORECASE)\n",
    "\n",
    "if match:\n",
    "    print(\"Match found:\", match.group())\n",
    "else:\n",
    "    print(\"no match found\")"
   ]
  },
  {
   "cell_type": "markdown",
   "metadata": {},
   "source": [
    "## 17. What does the . character normally match? What does it match if re.DOTALL is passed as 2nd argument in re.compile()?\n",
    "\n"
   ]
  },
  {
   "cell_type": "markdown",
   "metadata": {},
   "source": [
    "if we pass re.DOTALL or re.S as the second argument in the re.compile() function or use it as a flag in other re functions, it changes the behavior of the dot (.) character. When the re.DOTALL flag is used, the dot (.) character matches any character, including newline characters (\\n)."
   ]
  },
  {
   "cell_type": "markdown",
   "metadata": {},
   "source": [
    "> Dot normally matches any character that excluding the newline character"
   ]
  },
  {
   "cell_type": "code",
   "execution_count": 33,
   "metadata": {},
   "outputs": [
    {
     "name": "stdout",
     "output_type": "stream",
     "text": [
      "Without re.DOTALL: ['dot ', ' charcter checking']\n",
      "With re.DOTALL: ['dot \\n charcter checking']\n"
     ]
    }
   ],
   "source": [
    "import re\n",
    "\n",
    "text = \"dot \\n charcter checking\"\n",
    "\n",
    "pattern1 = re.compile(r\".+\")\n",
    "matches1 = pattern1.findall(text)\n",
    "\n",
    "print(\"Without re.DOTALL:\", matches1)\n",
    "\n",
    "pattern2 = re.compile(r\".+\", re.DOTALL)\n",
    "matches2 = pattern2.findall(text)\n",
    "\n",
    "print(\"With re.DOTALL:\", matches2)\n"
   ]
  },
  {
   "cell_type": "markdown",
   "metadata": {},
   "source": [
    "## 18. If numReg = re.compile(r'\\d+'), what will numRegex.sub('X', '11 drummers, 10 pipers, five rings, 4 hen') return?\n",
    "\n"
   ]
  },
  {
   "cell_type": "code",
   "execution_count": 37,
   "metadata": {},
   "outputs": [
    {
     "name": "stdout",
     "output_type": "stream",
     "text": [
      "X drummers, X pipers, five rings, X hen\n"
     ]
    }
   ],
   "source": [
    "import re\n",
    "\n",
    "numReg = re.compile(r'\\d+')\n",
    "text = \"11 drummers, 10 pipers, five rings, 4 hen\"\n",
    "\n",
    "result = numReg.sub('X', text)\n",
    "\n",
    "print(result)\n",
    "\n",
    "\n",
    "# IT WILL REPLACE ALL DIGITS WITH X"
   ]
  },
  {
   "cell_type": "markdown",
   "metadata": {},
   "source": [
    "## 19. What does passing re.VERBOSE as the 2nd argument to re.compile() allow to do?\n",
    "\n"
   ]
  },
  {
   "cell_type": "markdown",
   "metadata": {},
   "source": [
    "> ALLOWING COMMENTS\n",
    "\n",
    "> IGNORING WHITESPACE\n",
    "\n",
    "> ALLOWING LINE BREAK"
   ]
  },
  {
   "cell_type": "code",
   "execution_count": 40,
   "metadata": {},
   "outputs": [
    {
     "name": "stdout",
     "output_type": "stream",
     "text": [
      "none , because VERBOSE IS NOT USED FOR THE MATCH\n",
      "With re.VERBOSE: 123-45-6789\n"
     ]
    }
   ],
   "source": [
    "import re\n",
    "\n",
    "pattern1 = re.compile(r'\\d{10}')\n",
    "\n",
    "# Regular expression with re.VERBOSE\n",
    "pattern2 = re.compile(r'''\n",
    "    \\d{3}   # Match three digits\n",
    "    -       # Match a hyphen\n",
    "    \\d{2}   # Match two digits\n",
    "    -       # Match another hyphen\n",
    "    \\d{4}   # Match four digits\n",
    "''', re.VERBOSE)\n",
    "\n",
    "text = \"123-45-6789\"\n",
    "\n",
    "match1 = pattern1.match(text)\n",
    "match2 = pattern2.match(text)\n",
    "\n",
    "if match1:\n",
    "    print(\"Without re.VERBOSE:\", match1.group())\n",
    "else:\n",
    "    print(\"none , because VERBOSE IS NOT USED FOR THE MATCH\")\n",
    "if match2:\n",
    "    print(\"With re.VERBOSE:\", match2.group())\n",
    "else:\n",
    "    print(\"none\")"
   ]
  },
  {
   "cell_type": "markdown",
   "metadata": {},
   "source": [
    "## 20. How would you write a regex that match a number with comma for every three digits? It must match the given following:\n",
    "\n",
    "'42'\n",
    "\n",
    "'1,234'\n",
    "\n",
    "'6,368,745'\n",
    "\n",
    "but not the following:\n",
    "\n",
    "'12,34,567' (which has only two digits between the commas)\n",
    "\n",
    "'1234' (which lacks commas)"
   ]
  },
  {
   "cell_type": "code",
   "execution_count": 48,
   "metadata": {},
   "outputs": [
    {
     "name": "stdout",
     "output_type": "stream",
     "text": [
      "42 -  MATCHING\n",
      "1,234 -  MATCHING\n",
      "6,368,745 -  MATCHING\n",
      "12,34,567 - NO MATCH\n",
      "1234 - NO MATCH\n"
     ]
    }
   ],
   "source": [
    "import re\n",
    "\n",
    "pattern = r'^\\d{1,3}(,\\d{3})*$'\n",
    "\n",
    "texts= ['42', '1,234', '6,368,745', '12,34,567', '1234']\n",
    "\n",
    "for text in texts:\n",
    "    if re.match(pattern, text):\n",
    "        print(f\"{text} -  MATCHING\")\n",
    "    else:\n",
    "        print(f\"{text} - NO MATCH\")\n"
   ]
  },
  {
   "cell_type": "markdown",
   "metadata": {},
   "source": [
    "## 21. How would you write a regex that matches the full name of someone whose last name is Watanabe? You can assume that the first name that comes before it will always be one word that begins with a capital letter. The regex must match the following:\n",
    "\n",
    "'Haruto Watanabe'\n",
    "\n",
    "'Alice Watanabe'\n",
    "\n",
    "'RoboCop Watanabe'\n",
    "\n",
    "but not the following:\n",
    "\n",
    "'haruto Watanabe' (where the first name is not capitalized)\n",
    "\n",
    "'Mr. Watanabe' (where the preceding word has a nonletter character)\n",
    "\n",
    "'Watanabe' (which has no first name)\n",
    "\n",
    "'Haruto watanabe' (where Watanabe is not capitalized)"
   ]
  },
  {
   "cell_type": "code",
   "execution_count": 52,
   "metadata": {},
   "outputs": [
    {
     "name": "stdout",
     "output_type": "stream",
     "text": [
      " Haruto Watanabe  - MATCHING\n",
      " Alice Watanabe  - MATCHING\n",
      " RoboCop Watanabe  - MATCHING\n",
      " haruto Watanabe - NOT MATCHING\n",
      " Mr. Watanabe - NOT MATCHING\n",
      " Watanabe - NOT MATCHING\n",
      " Haruto watanabe - NOT MATCHING\n"
     ]
    }
   ],
   "source": [
    "import re\n",
    "\n",
    "\n",
    "pattern = r'^[A-Z][a-zA-Z]*\\sWatanabe$'\n",
    "#^ asserts the start of the string\n",
    "#[A-Z] matches a single uppercase letter for the first letter of the first name\n",
    "#[a-zA-Z]* matches zero or more letters (both uppercase and lowercase) for the remaining part of the first name\n",
    "#\\s matches a single whitespace character to separate the first and last names\n",
    "#Watanabe matches the last name \"Watanabe\" exactly\n",
    "#$ asserts the end of the string\n",
    "\n",
    "texts = [\n",
    "    'Haruto Watanabe',\n",
    "    'Alice Watanabe',\n",
    "    'RoboCop Watanabe',\n",
    "    'haruto Watanabe',\n",
    "    'Mr. Watanabe',\n",
    "    'Watanabe',\n",
    "    'Haruto watanabe'\n",
    "]\n",
    "\n",
    "for text in texts:\n",
    "    if re.match(pattern, text):\n",
    "        print(f\" {text}  - MATCHING\")\n",
    "    else:\n",
    "        print(f\" {text} - NOT MATCHING\")\n"
   ]
  },
  {
   "cell_type": "markdown",
   "metadata": {},
   "source": [
    "## 22. How would you write a regex that matches a sentence where the first word is either Alice, Bob, or Carol; the second word is either eats, pets, or throws; the third word is apples, cats, or baseballs; and the sentence ends with a period? This regex should be case-insensitive. It must match the following:\n",
    "\n",
    "'Alice eats apples.'\n",
    "\n",
    "'Bob pets cats.'\n",
    "\n",
    "'Carol throws baseballs.'\n",
    "\n",
    "'Alice throws Apples.'\n",
    "\n",
    "'BOB EATS CATS.'\n",
    "\n",
    "but not the following:\n",
    "\n",
    "'RoboCop eats apples.'\n",
    "\n",
    "'ALICE THROWS FOOTBALLS.'\n",
    "\n",
    "'Carol eats 7 cats.'"
   ]
  },
  {
   "cell_type": "code",
   "execution_count": 54,
   "metadata": {},
   "outputs": [
    {
     "name": "stdout",
     "output_type": "stream",
     "text": [
      " Alice eats apples.  - MATCHING\n",
      " Bob pets cats.  - MATCHING\n",
      " Carol throws baseballs.  - MATCHING\n",
      " Alice throws Apples.  - MATCHING\n",
      " BOB EATS CATS.  - MATCHING\n",
      " RoboCop eats apples. - NOT MATCHING\n",
      " ALICE THROWS FOOTBALLS. - NOT MATCHING\n",
      " Carol eats 7 cats. - NOT MATCHING\n"
     ]
    }
   ],
   "source": [
    "import re\n",
    "\n",
    "pattern = r'^(?i)(Alice|Bob|Carol)\\s(eats|pets|throws)\\s(apples|cats|baseballs)\\.$'\n",
    "# ^ and $ indictaes the start and the end of the string\n",
    "#(?i) enables case-insensitive matching\n",
    "#(Alice|Bob|Carol) matches one of the specified names\n",
    "#\\s matches a whitespace character to separate words\n",
    "#(eats|pets|throws) matches one of the specified verbs\n",
    "#(apples|cats|baseballs) matches one of the specified objects\n",
    "#\\. matches a period at the end of the sentence\n",
    "\n",
    "texts = [\n",
    "    'Alice eats apples.',\n",
    "    'Bob pets cats.',\n",
    "    'Carol throws baseballs.',\n",
    "    'Alice throws Apples.',\n",
    "    'BOB EATS CATS.',\n",
    "    'RoboCop eats apples.',\n",
    "    'ALICE THROWS FOOTBALLS.',\n",
    "    'Carol eats 7 cats.'\n",
    "]\n",
    "\n",
    "for text in texts:\n",
    "    if re.match(pattern, text):\n",
    "        print(f\" {text}  - MATCHING\")\n",
    "    else:\n",
    "        print(f\" {text} - NOT MATCHING\")\n"
   ]
  }
 ],
 "metadata": {
  "kernelspec": {
   "display_name": "Python 3",
   "language": "python",
   "name": "python3"
  },
  "language_info": {
   "codemirror_mode": {
    "name": "ipython",
    "version": 3
   },
   "file_extension": ".py",
   "mimetype": "text/x-python",
   "name": "python",
   "nbconvert_exporter": "python",
   "pygments_lexer": "ipython3",
   "version": "3.9.10"
  },
  "orig_nbformat": 4
 },
 "nbformat": 4,
 "nbformat_minor": 2
}

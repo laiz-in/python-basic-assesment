{
 "cells": [
  {
   "cell_type": "markdown",
   "metadata": {},
   "source": [
    "## 1. To what does a relative path refer?\n",
    "\n"
   ]
  },
  {
   "cell_type": "markdown",
   "metadata": {},
   "source": [
    "> __Relative path__ refers to a location that is relative to the current directory. __Relative paths__ make use of two special symbols, a dot (.) and a double-dot (..), which translate into the current directory and the parent directory. Double-dots are used for moving up in the hierarch"
   ]
  },
  {
   "cell_type": "markdown",
   "metadata": {},
   "source": [
    "> it plays an important role in __folder structure__ of projects"
   ]
  },
  {
   "cell_type": "markdown",
   "metadata": {},
   "source": [
    "## 2. What does an absolute path start with your operating system?\n",
    "\n"
   ]
  },
  {
   "cell_type": "markdown",
   "metadata": {},
   "source": [
    ">An __absolute path__ in an operating system, regardless of the specific operating system, typically starts with the root directory or drive letter. The root directory is the highest-level directory in a file system hierarchy, and it serves as the starting point for specifying the complete path to a file or directory."
   ]
  },
  {
   "cell_type": "markdown",
   "metadata": {},
   "source": [
    "## 3. What do the functions os.getcwd() and os.chdir() do?\n",
    "\n"
   ]
  },
  {
   "cell_type": "markdown",
   "metadata": {},
   "source": [
    ">__os.getcwd()__ This function stands for \"get current working directory.\" It returns a string representing the current working directory of the Python script"
   ]
  },
  {
   "cell_type": "markdown",
   "metadata": {},
   "source": [
    ">__os.chdir(path)__ This function stands for \"change directory.\" It is used to change the current working directory to the specified path. When you call os.chdir(path), the current working directory of the Python script or program is updated to the directory specified by path."
   ]
  },
  {
   "cell_type": "code",
   "execution_count": 2,
   "metadata": {},
   "outputs": [
    {
     "name": "stdout",
     "output_type": "stream",
     "text": [
      "Current working directory is  c:\\Users\\Hp\\Desktop\\PENDING\n"
     ]
    }
   ],
   "source": [
    "import os\n",
    "\n",
    "current_directory = os.getcwd()\n",
    "print(\"Current working directory is \", current_directory)\n",
    "#it returns the absolute path of working dir\n",
    "\n",
    "# new_directory = '/path/to/new/directory'\n",
    "# os.chdir(new_directory)\n",
    "\n",
    "#code is commented because i dont want to change my dir"
   ]
  },
  {
   "cell_type": "markdown",
   "metadata": {},
   "source": [
    "## 4. What are the . and .. folders?\n",
    "\n"
   ]
  },
  {
   "cell_type": "markdown",
   "metadata": {},
   "source": [
    ">The . and .. folders are special folders in a file system. The . folder refers to the current directory, and the .. folder refers to the parent directory"
   ]
  },
  {
   "cell_type": "markdown",
   "metadata": {},
   "source": [
    "## 5. In C:\\bacon\\eggs\\spam.txt, which part is the dir name, and which part is the base name?\n",
    "\n"
   ]
  },
  {
   "cell_type": "markdown",
   "metadata": {},
   "source": [
    "> __C:\\bacon\\eggs__ is the directory name\n",
    "\n"
   ]
  },
  {
   "cell_type": "markdown",
   "metadata": {},
   "source": [
    "> __spam.txt__ is the base name"
   ]
  },
  {
   "cell_type": "markdown",
   "metadata": {},
   "source": [
    "## 6. What are the three “mode” arguments that can be passed to the open() function?\n",
    "\n"
   ]
  },
  {
   "cell_type": "markdown",
   "metadata": {},
   "source": [
    "> __read mode (r)__ opens the file and reads the file , this is default"
   ]
  },
  {
   "cell_type": "markdown",
   "metadata": {},
   "source": [
    "> __write mode (w)__ . opens the file for writing ,If the file does not exist, it is created. If the file does exist, it is overwritten"
   ]
  },
  {
   "cell_type": "markdown",
   "metadata": {},
   "source": [
    ">__append mode (a)__ .Opens the file for appending. The file is opened at the end, and any new data is written to the end of the file"
   ]
  },
  {
   "cell_type": "code",
   "execution_count": null,
   "metadata": {},
   "outputs": [],
   "source": [
    "# read mode\n",
    "with open('file.txt', 'r') as file:\n",
    "    content = file.read()\n",
    "\n",
    "# write mode\n",
    "with open('file.txt', 'w') as file:\n",
    "    file.write('Hello, world!')\n",
    "\n",
    "# append mode\n",
    "with open('file.txt', 'a') as file:\n",
    "    file.write('\\nAppended text.')\n",
    "\n"
   ]
  },
  {
   "cell_type": "markdown",
   "metadata": {},
   "source": [
    "## 7. What happens if an existing file is opened in write mode?\n",
    "\n"
   ]
  },
  {
   "cell_type": "markdown",
   "metadata": {},
   "source": [
    "> it will be overwritten"
   ]
  },
  {
   "cell_type": "markdown",
   "metadata": {},
   "source": [
    "## 8. How do you tell the difference between read() and readlines()?\n",
    "\n"
   ]
  },
  {
   "cell_type": "markdown",
   "metadata": {},
   "source": [
    "\n",
    ">The __read()__ and __readlines()__ methods are used to read data from a file in Python. The __read()__ method reads the entire contents of the file and returns it as a string. The __readlines()__ method reads the file line by line and returns a list of strings, where each string is one line of the file."
   ]
  },
  {
   "cell_type": "code",
   "execution_count": 3,
   "metadata": {},
   "outputs": [
    {
     "name": "stdout",
     "output_type": "stream",
     "text": [
      "helloooo_firstlineee\n",
      "hellooo_secondlineeee\n",
      "this \n",
      "is\n",
      "randomtextfileee\n"
     ]
    }
   ],
   "source": [
    "with open(\"file.txt\", \"r\") as f:\n",
    "    data = f.read()\n",
    "\n",
    "print(data)"
   ]
  },
  {
   "cell_type": "code",
   "execution_count": 4,
   "metadata": {},
   "outputs": [
    {
     "name": "stdout",
     "output_type": "stream",
     "text": [
      "helloooo_firstlineee\n",
      "\n",
      "hellooo_secondlineeee\n",
      "\n",
      "this \n",
      "\n",
      "is\n",
      "\n",
      "randomtextfileee\n"
     ]
    }
   ],
   "source": [
    "with open(\"file.txt\", \"r\") as f:\n",
    "    lines = f.readlines()\n",
    "\n",
    "for line in lines:\n",
    "    print(line)"
   ]
  },
  {
   "cell_type": "markdown",
   "metadata": {},
   "source": [
    "## 9. What data structure does a shelf value resemble?"
   ]
  },
  {
   "cell_type": "markdown",
   "metadata": {},
   "source": [
    ">shelve value is a persistent dictionary-like object that maps keys to values. You can use it to store and retrieve Python objects (such as dictionaries, lists, or custom objects) by associating them with unique keys."
   ]
  },
  {
   "cell_type": "code",
   "execution_count": 5,
   "metadata": {},
   "outputs": [
    {
     "name": "stdout",
     "output_type": "stream",
     "text": [
      "raju\n",
      "25\n"
     ]
    }
   ],
   "source": [
    "import shelve\n",
    "\n",
    "# Create a shelf file\n",
    "with shelve.open('student') as shelf:\n",
    "    shelf['name'] = 'raju'\n",
    "    shelf['age'] = 25\n",
    "\n",
    "with shelve.open('student') as shelf:\n",
    "    print(shelf['name'])  \n",
    "    print(shelf['age'])   "
   ]
  }
 ],
 "metadata": {
  "kernelspec": {
   "display_name": "Python 3",
   "language": "python",
   "name": "python3"
  },
  "language_info": {
   "codemirror_mode": {
    "name": "ipython",
    "version": 3
   },
   "file_extension": ".py",
   "mimetype": "text/x-python",
   "name": "python",
   "nbconvert_exporter": "python",
   "pygments_lexer": "ipython3",
   "version": "3.9.10"
  },
  "orig_nbformat": 4
 },
 "nbformat": 4,
 "nbformat_minor": 2
}

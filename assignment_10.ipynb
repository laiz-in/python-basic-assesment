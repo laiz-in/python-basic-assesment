{
 "cells": [
  {
   "cell_type": "markdown",
   "metadata": {},
   "source": [
    "## 1. How do you distinguish between shutil.copy() and shutil.copytree()?\n",
    "\n"
   ]
  },
  {
   "cell_type": "markdown",
   "metadata": {},
   "source": [
    "\n",
    ">The __shutil.copy()__ and __shutil.copytree()__ functions are both used to copy files and directories in Python. However, there are some key differences between the two functions.\n",
    "\n",
    ">The __shutil.copy()__ function copies a single file from one location to another. The __shutil.copytree()__ function copies an entire directory tree including all of the files and subdirectories in the directory."
   ]
  },
  {
   "cell_type": "code",
   "execution_count": null,
   "metadata": {},
   "outputs": [],
   "source": [
    "import shutil\n",
    "\n",
    "# shutilcopy()\n",
    "source_file = \"my_file.txt\"\n",
    "destination_file = \"new_file.txt\"\n",
    "\n",
    "shutil.copy(source_file, destination_file)\n",
    "\n",
    "\n",
    "#shutil.copytree()\n",
    "source_dir = \"my_dir\"\n",
    "destination_dir = \"new_dir\"\n",
    "\n",
    "shutil.copytree(source_dir, destination_dir)"
   ]
  },
  {
   "cell_type": "markdown",
   "metadata": {},
   "source": [
    "## 2. What function is used to rename files??\n",
    "\n"
   ]
  },
  {
   "cell_type": "code",
   "execution_count": 6,
   "metadata": {},
   "outputs": [
    {
     "name": "stdout",
     "output_type": "stream",
     "text": [
      "succesfully renamed\n"
     ]
    }
   ],
   "source": [
    "import shutil\n",
    "\n",
    "#current file path of the file to be renamed\n",
    "current_file_path = 'fileold.txt'\n",
    "\n",
    "#new file path of the file to be renamed\n",
    "new_file_path = 'filenew.txt'\n",
    "\n",
    "\n",
    "#rename the file , passing the args as new and old file paths\n",
    "try:\n",
    "    shutil.move(current_file_path, new_file_path)\n",
    "    print(\"succesfully renamed\")\n",
    "except Exception as e:\n",
    "    print(\"some error occured : \",e)\n"
   ]
  },
  {
   "cell_type": "markdown",
   "metadata": {},
   "source": [
    "## 3. What is the difference between the delete functions in the send2trash and shutil modules?\n",
    "\n"
   ]
  },
  {
   "cell_type": "markdown",
   "metadata": {},
   "source": [
    "> __send2trash__ will not permanently delete files , it will move the files to the system recycle bin , can be recovered later\n",
    "\n",
    "> __shutil__ module will delete the file permanently , and can not be recovered later from the recycle bin"
   ]
  },
  {
   "cell_type": "markdown",
   "metadata": {},
   "source": [
    "## 4.ZipFile objects have a close() method just like File objects’ close() method. What ZipFile method is equivalent to File objects’ open() method?\n",
    "\n"
   ]
  },
  {
   "cell_type": "markdown",
   "metadata": {},
   "source": [
    "> __ZipFile()__ can be used"
   ]
  },
  {
   "cell_type": "code",
   "execution_count": null,
   "metadata": {},
   "outputs": [],
   "source": [
    "import zipfile as zp\n",
    "\n",
    "# Open an existing ZIP file for reading\n",
    "with zp.ZipFile('file.zip', 'r') as zip_file:\n",
    "    pass\n",
    "    #operations with opened file"
   ]
  },
  {
   "cell_type": "markdown",
   "metadata": {},
   "source": [
    "## 5. Create a programme that searches a folder tree for files with a certain file extension (such as .pdf or .jpg). Copy these files from whatever location they are in to a new folder."
   ]
  },
  {
   "cell_type": "code",
   "execution_count": 17,
   "metadata": {},
   "outputs": [
    {
     "name": "stdout",
     "output_type": "stream",
     "text": [
      "Copied: C:/Users/Hp/Desktop/CANVA_DESIGNS/MACHINELEARNING\\all_regressions .jpg to myfolder\\all_regressions .jpg\n",
      "Copied: C:/Users/Hp/Desktop/CANVA_DESIGNS/MACHINELEARNING\\logisticc.jpg to myfolder\\logisticc.jpg\n",
      "Copied: C:/Users/Hp/Desktop/CANVA_DESIGNS/MACHINELEARNING\\ridgeandlasso.jpg to myfolder\\ridgeandlasso.jpg\n",
      "Copied: C:/Users/Hp/Desktop/CANVA_DESIGNS/MACHINELEARNING\\svc_wineprediction .jpg to myfolder\\svc_wineprediction .jpg\n",
      "Copied: C:/Users/Hp/Desktop/CANVA_DESIGNS/MACHINELEARNING\\svr_admission .jpg to myfolder\\svr_admission .jpg\n",
      " \n",
      "total 5 files copied with the extension .jpg\n"
     ]
    }
   ],
   "source": [
    "import os\n",
    "import shutil\n",
    "\n",
    "#provide a source directory where we want to search\n",
    "source_dir = \"C:/Users/Hp/Desktop/CANVA_DESIGNS/MACHINELEARNING\"\n",
    "# provide a new folder where the files will be copied to\n",
    "destination_dir = \"myfolder\"\n",
    "#give the file extensions we wan to search\n",
    "target_extension = '.jpg'\n",
    "\n",
    "#create the destination if it doesnt exists already\n",
    "os.makedirs(destination_dir, exist_ok=True)\n",
    "i=0\n",
    "# search all the folder tree inside the given destinations to find all files with the given extension\n",
    "for root, _, files in os.walk(source_dir):\n",
    "    for file in files:\n",
    "        if file.endswith(target_extension):\n",
    "            i+=1\n",
    "            source_file_path = os.path.join(root, file)\n",
    "            destination_file_path = os.path.join(destination_dir, file)\n",
    "            try:\n",
    "                shutil.copy(source_file_path, destination_file_path)\n",
    "                print(f\"Copied: {source_file_path} to {destination_file_path}\")\n",
    "            except Exception as e:\n",
    "                print(f\"Error copying , the error is : {source_file_path}: {str(e)}\")\n",
    "result = f\" \\ntotal {i} files copied with the extension {target_extension}\" if i!=0 else f\"\\n no files found with the extension {target_extension}\"\n",
    "print(result)"
   ]
  }
 ],
 "metadata": {
  "kernelspec": {
   "display_name": "Python 3",
   "language": "python",
   "name": "python3"
  },
  "language_info": {
   "codemirror_mode": {
    "name": "ipython",
    "version": 3
   },
   "file_extension": ".py",
   "mimetype": "text/x-python",
   "name": "python",
   "nbconvert_exporter": "python",
   "pygments_lexer": "ipython3",
   "version": "3.9.10"
  },
  "orig_nbformat": 4
 },
 "nbformat": 4,
 "nbformat_minor": 2
}

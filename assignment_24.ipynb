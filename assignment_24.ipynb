{
 "cells": [
  {
   "cell_type": "markdown",
   "metadata": {},
   "source": [
    "## 1. What is the relationship between def statements and lambda expressions ?\n",
    "\n"
   ]
  },
  {
   "cell_type": "code",
   "execution_count": 4,
   "metadata": {},
   "outputs": [
    {
     "name": "stdout",
     "output_type": "stream",
     "text": [
      " def function :  3\n",
      "lambda function :  3\n"
     ]
    }
   ],
   "source": [
    "# def statement\n",
    "def add_numbers(a, b): \n",
    "  return a + b\n",
    "\n",
    "# lambda expression to takes two numebrs and returns the added values\n",
    "add_numbers_2= lambda a, b: a + b\n",
    "\n",
    "\n",
    "print(\" def function : \",add_numbers(1, 2))\n",
    "print(\"lambda function : \",add_numbers_2(1, 2))"
   ]
  },
  {
   "cell_type": "markdown",
   "metadata": {},
   "source": [
    "def statements are used to define named functions, while lambda expressions are used to define anonymous functions\n",
    "\n",
    "def statements can have a multi-line body, while lambda expressions can only have a single-line expression\n",
    "\n",
    "def statements must explicitly return a value, while lambda expressions implicitly return the result of the expression\n",
    "\n"
   ]
  },
  {
   "cell_type": "markdown",
   "metadata": {},
   "source": [
    "## 2. What is the benefit of lambda?\n",
    "\n"
   ]
  },
  {
   "cell_type": "markdown",
   "metadata": {},
   "source": [
    "lambda is useful to create functions in single line\n",
    "\n",
    "Lambda expressions can be used in a variety of ways, such as passing them as arguments to other functions or returning them as results. This makes them a very flexible tool for functional programming"
   ]
  },
  {
   "cell_type": "markdown",
   "metadata": {},
   "source": [
    "## 3. Compare and contrast map, filter, and reduce.\n",
    "\n"
   ]
  },
  {
   "cell_type": "code",
   "execution_count": 8,
   "metadata": {},
   "outputs": [
    {
     "name": "stdout",
     "output_type": "stream",
     "text": [
      "output of mapping the function to list \n",
      " [2, 4, 6, 8, 10]\n",
      "the ouput of filter function of creating even number sequence\n",
      " [2, 4]\n",
      "output of reduce function\n",
      " 15\n"
     ]
    }
   ],
   "source": [
    "from functools import reduce\n",
    "#this is needed to use reduce()\n",
    "\n",
    "# creates alist\n",
    "list_of_numbers = [1, 2, 3, 4, 5]\n",
    "\n",
    "\n",
    "# map() Applies a function to each element of the input sequence\n",
    "def double_number(x):\n",
    "  return x * 2\n",
    "\n",
    "# mapping the function to each elements in the list\n",
    "doubled_list = map(double_number, list_of_numbers)\n",
    "print(\"output of mapping the function to list \\n\",list(doubled_list))\n",
    "\n",
    "\n",
    "\n",
    "# filter() Filters the input sequence based on a given condition or function\n",
    "def is_even(x):\n",
    "  return x % 2 == 0\n",
    "even_numbers = filter(is_even, list_of_numbers)\n",
    "print(\"the ouput of filter function of creating even number sequence\\n\",list(even_numbers))\n",
    "\n",
    "\n",
    "# reduce() Applies a function to the elements of the input sequence in a cumulative way\n",
    "def sum_numbers(a, b):\n",
    "  return a + b\n",
    "sum_of_numbers = reduce(sum_numbers, list_of_numbers)\n",
    "\n",
    "# Print the sum of the numbers\n",
    "print(\"output of reduce function\\n\",sum_of_numbers)\n"
   ]
  },
  {
   "cell_type": "markdown",
   "metadata": {},
   "source": [
    "## 4. What are function annotations, and how are they used?\n",
    "\n"
   ]
  },
  {
   "cell_type": "markdown",
   "metadata": {},
   "source": [
    ">Function annotations are a way to add metadata to functions in Python. They can be used to specify the expected types of function parameters and the return value of the function."
   ]
  },
  {
   "cell_type": "code",
   "execution_count": 10,
   "metadata": {},
   "outputs": [],
   "source": [
    "def get_user_data(user_id: str) -> dict:\n",
    "  #functions demands user_id should be string and the returning value should be a dictionary\n",
    "  user_data = {\n",
    "    \"id\": user_id,\n",
    "    \"name\": \"Jraju\",\n",
    "    \"email\": \"raju@gmail.com\"\n",
    "  }\n",
    "  return user_data\n",
    "\t "
   ]
  },
  {
   "cell_type": "markdown",
   "metadata": {},
   "source": [
    "## 5. What are recursive functions, and how are they used?\n",
    "\n"
   ]
  },
  {
   "cell_type": "markdown",
   "metadata": {},
   "source": [
    "recursive function is a function that calls itself directly or indirectly. This allows the function to solve problems by breaking them down into smaller instances of the same problem"
   ]
  },
  {
   "cell_type": "code",
   "execution_count": 3,
   "metadata": {},
   "outputs": [
    {
     "data": {
      "text/plain": [
       "120"
      ]
     },
     "execution_count": 3,
     "metadata": {},
     "output_type": "execute_result"
    }
   ],
   "source": [
    "# defining a function to find the factorial of a number\n",
    "def factorial(n):\n",
    "  if n == 0:\n",
    "    return 1\n",
    "  else:\n",
    "    return n * factorial(n - 1)\n",
    "    #calls the saem function inside itself\n",
    "  \n",
    "\n",
    "factorial(5)"
   ]
  },
  {
   "cell_type": "markdown",
   "metadata": {},
   "source": [
    "## 6. What are some general design guidelines for coding functions?\n",
    "\n"
   ]
  },
  {
   "cell_type": "markdown",
   "metadata": {},
   "source": [
    ">Each function should have a single, well-defined purpose. If a function performs multiple tasks, consider breaking it into smaller functions, each responsible for a specific task.\n",
    "\n",
    ">Keep functions short and focused\n",
    "\n",
    ">use default values for function parameters to make the function more flexible\n",
    "\n",
    ">Implement proper error handling within your functions\n",
    "\n",
    ">The name of a function should tell what the function does. Avoid using generic names"
   ]
  },
  {
   "cell_type": "markdown",
   "metadata": {},
   "source": [
    "## 7. Name three or more ways that functions can communicate results to a caller."
   ]
  },
  {
   "cell_type": "markdown",
   "metadata": {},
   "source": [
    "> return values : function will retunr the result value at teh end of the function\n",
    "\n",
    "> print statements :  function will print things inside the fucntions when its being called\n",
    "\n",
    ">side effects : function will perform a specific task when its being called like , deleting a file or writing a file"
   ]
  },
  {
   "cell_type": "code",
   "execution_count": 11,
   "metadata": {},
   "outputs": [
    {
     "name": "stdout",
     "output_type": "stream",
     "text": [
      " (example for rertun value function )  sum of the numbers are  9\n",
      " (example for printing insid ethe function)  sum of two numbers are  11\n",
      "string saved succesfully\n"
     ]
    }
   ],
   "source": [
    "#returning the value\n",
    "def add_numbers(a,b):\n",
    "    sum= a+b\n",
    "    return sum\n",
    "\n",
    "print(\" (example for rertun value function )  sum of the numbers are \",add_numbers(4,5))\n",
    "\n",
    "#using print statements\n",
    "def add_number(a,b):\n",
    "    print(\" (example for printing insid ethe function)  sum of two numbers are \",a+b)\n",
    "add_number(5,6)\n",
    "\n",
    "\n",
    "#side effects . this will save the string when the function being called\n",
    "def save_string(a):\n",
    "    with open('mystring.txt', \"w\") as f:\n",
    "        f.write(a)\n",
    "try:\n",
    "    save_string('heyy pythonist')\n",
    "    print(\"string saved succesfully\")\n",
    "except Exception as e:\n",
    "    print(\"some errro occured , error is : \",e)"
   ]
  }
 ],
 "metadata": {
  "kernelspec": {
   "display_name": "Python 3",
   "language": "python",
   "name": "python3"
  },
  "language_info": {
   "codemirror_mode": {
    "name": "ipython",
    "version": 3
   },
   "file_extension": ".py",
   "mimetype": "text/x-python",
   "name": "python",
   "nbconvert_exporter": "python",
   "pygments_lexer": "ipython3",
   "version": "3.9.10"
  },
  "orig_nbformat": 4
 },
 "nbformat": 4,
 "nbformat_minor": 2
}

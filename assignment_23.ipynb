{
 "cells": [
  {
   "cell_type": "markdown",
   "metadata": {},
   "source": [
    "## 1. What is the result of the code, and why?\n",
    "\n",
    "def func(a, b=6, c=8):\n",
    "\n",
    "print(a, b, c)\n",
    "\n",
    "func(1, 2)"
   ]
  },
  {
   "cell_type": "code",
   "execution_count": 6,
   "metadata": {},
   "outputs": [
    {
     "name": "stdout",
     "output_type": "stream",
     "text": [
      "1 2 8\n"
     ]
    }
   ],
   "source": [
    "#function takes 3 args\n",
    "def func(a, b=6, c=8):\n",
    "    print(a, b, c)\n",
    "\n",
    "func(1, 2)\n",
    "\n"
   ]
  },
  {
   "cell_type": "markdown",
   "metadata": {},
   "source": [
    ">This is because the function func() takes three arguments, a, b, and c. The first argument a is required\n",
    "\n",
    ">but the second and third arguments b and c, have default values of 6 and 8, respectively.\n",
    "\n",
    ">here we have given first and second values only. third value , the function will take it from its default values. so the o/p will be 1 2 8"
   ]
  },
  {
   "cell_type": "markdown",
   "metadata": {},
   "source": [
    "## 2. What is the result of this code, and why?\n",
    "\n",
    "def func(a, b, c=5):\n",
    "\n",
    "print(a, b, c)\n",
    "\n",
    "func(1, c=3, b=2)"
   ]
  },
  {
   "cell_type": "code",
   "execution_count": 7,
   "metadata": {},
   "outputs": [
    {
     "name": "stdout",
     "output_type": "stream",
     "text": [
      "1 2 3\n"
     ]
    }
   ],
   "source": [
    "def func(a, b, c=5):\n",
    "    print(a, b, c)\n",
    "\n",
    "func(1, c=3, b=2)"
   ]
  },
  {
   "cell_type": "markdown",
   "metadata": {},
   "source": [
    "> Here 3 arguments are needed for the function. only 3rd arg have the default value , so the first two , a and b are required\n",
    "\n",
    "> when we call the function , we are giving 3 args \n",
    "\n",
    "> and specifying b and c . so the fucntion take the values we are giving while calling the function. no need to use its default values"
   ]
  },
  {
   "cell_type": "markdown",
   "metadata": {},
   "source": [
    "## 3. How about this code: what is its result, and why?\n",
    "\n",
    "def func(a, *pargs):\n",
    "\n",
    "print(a, pargs)\n",
    "\n",
    "func(1, 2, 3)"
   ]
  },
  {
   "cell_type": "code",
   "execution_count": 8,
   "metadata": {},
   "outputs": [
    {
     "name": "stdout",
     "output_type": "stream",
     "text": [
      "1 (2, 3)\n"
     ]
    }
   ],
   "source": [
    "\n",
    "def func(a, *pargs):\n",
    "    print(a, pargs)\n",
    "\n",
    "func(1, 2, 3)"
   ]
  },
  {
   "cell_type": "markdown",
   "metadata": {},
   "source": [
    "*args stands for \"positional arguments\". It is used to pass a variable number of positional arguments to a function. \n",
    "\n",
    "The positional arguments are passed to the function as a tuple."
   ]
  },
  {
   "cell_type": "markdown",
   "metadata": {},
   "source": [
    "> it will take the first argument to a , that is 1\n",
    "\n",
    "> remaining arguments will take as tuple . which means 2,3 will be taken as tuple . so output will be 1 (2,3)"
   ]
  },
  {
   "cell_type": "markdown",
   "metadata": {},
   "source": [
    "## 4. What does this code print, and why?\n",
    "\n",
    "def func(a, **kargs):\n",
    "\n",
    "print(a, kargs)\n",
    "\n",
    "func(a=1, c=3, b=2)"
   ]
  },
  {
   "cell_type": "code",
   "execution_count": 13,
   "metadata": {},
   "outputs": [
    {
     "name": "stdout",
     "output_type": "stream",
     "text": [
      "1 {'c': 3, 'b': 2}\n"
     ]
    }
   ],
   "source": [
    "\n",
    "def func(a, **kargs):\n",
    "    print(a, kargs)\n",
    "\n",
    "func(a=1, c=3, b=2)"
   ]
  },
  {
   "cell_type": "markdown",
   "metadata": {},
   "source": [
    "> 1st argument will be assigned to a , which is 1\n",
    "\n",
    "> second arg will be keyword arg because we used **kwargs. it will be __dictionary__ "
   ]
  },
  {
   "cell_type": "markdown",
   "metadata": {},
   "source": [
    "**kwargs stands for \"keyword arguments\". It is used to pass a variable number of keyword arguments to a function. \n",
    "\n",
    "The keyword arguments are passed to the function as a dictionary"
   ]
  },
  {
   "cell_type": "markdown",
   "metadata": {},
   "source": [
    "## 5. What gets printed by this, and explain?\n",
    "\n",
    "def func(a, b, c=8, d=5): \n",
    "\n",
    "print(a, b, c, d)\n",
    "\n",
    "func(1, *(5, 6))"
   ]
  },
  {
   "cell_type": "code",
   "execution_count": 17,
   "metadata": {},
   "outputs": [
    {
     "name": "stdout",
     "output_type": "stream",
     "text": [
      "1 5 6 5\n"
     ]
    }
   ],
   "source": [
    "\n",
    "def func(a, b, c=8, d=5): \n",
    "    print(a, b, c, d)\n",
    "\n",
    "func(1, *(5, 6))\n",
    "# first value we have given so a = 1\n",
    "\n",
    "# second arg is *(5,6) , it unpacks and gives two positional values to b and c . so b=5 and c=5\n",
    "\n",
    "# fourth value is not provided so, it will take the default value of d\n",
    "\n",
    "# the ouput will be 1 5 6 5"
   ]
  },
  {
   "cell_type": "markdown",
   "metadata": {},
   "source": [
    "## 6. what is the result of this, and explain?\n",
    "\n",
    "def func(a, b, c): a = 2; b[0] = 'x'; c['a'] = 'y'\n",
    "\n",
    "l=1; m=[1]; n={'a':0}\n",
    "\n",
    "func(l, m, n)\n",
    "\n",
    "l, m, n"
   ]
  },
  {
   "cell_type": "code",
   "execution_count": 1,
   "metadata": {},
   "outputs": [
    {
     "data": {
      "text/plain": [
       "(1, ['x'], {'a': 'y'})"
      ]
     },
     "execution_count": 1,
     "metadata": {},
     "output_type": "execute_result"
    }
   ],
   "source": [
    "def func(a, b, c):\n",
    "    a = 2\n",
    "    b[0] = 'x'\n",
    "    c['a'] = 'y'\n",
    "\n",
    "l=1   # value can not be changed , its immutable\n",
    "m=[1] # value can be changed\n",
    "n={'a':0} # dictioanary , value can be changed\n",
    "\n",
    "func(l, m, n) #passing three args ti the function\n",
    "l,m,n\n"
   ]
  },
  {
   "cell_type": "markdown",
   "metadata": {},
   "source": [
    "l = 1 . because the function is not changing the global variable l\n",
    "\n",
    "m is ['x'] . because the functiom changes the value atv first index\n",
    "\n",
    "n is {'a':'y'}  . because the function changes the value of the key 'a"
   ]
  }
 ],
 "metadata": {
  "kernelspec": {
   "display_name": "Python 3",
   "language": "python",
   "name": "python3"
  },
  "language_info": {
   "codemirror_mode": {
    "name": "ipython",
    "version": 3
   },
   "file_extension": ".py",
   "mimetype": "text/x-python",
   "name": "python",
   "nbconvert_exporter": "python",
   "pygments_lexer": "ipython3",
   "version": "3.9.10"
  },
  "orig_nbformat": 4
 },
 "nbformat": 4,
 "nbformat_minor": 2
}

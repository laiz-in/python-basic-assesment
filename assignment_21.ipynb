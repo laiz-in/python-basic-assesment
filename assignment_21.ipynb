{
 "cells": [
  {
   "cell_type": "markdown",
   "metadata": {},
   "source": [
    "## 1. Add the current date to the text file today.txt as a string.\n",
    "\n"
   ]
  },
  {
   "cell_type": "code",
   "execution_count": 1,
   "metadata": {},
   "outputs": [
    {
     "name": "stdout",
     "output_type": "stream",
     "text": [
      "file saved succesfully\n"
     ]
    }
   ],
   "source": [
    "import datetime as dt\n",
    "\n",
    "#extract the current date\n",
    "date= dt.datetime.now()\n",
    "\n",
    "#convert into the string\n",
    "date_string = date.strftime('%Y-%m-%d')\n",
    "\n",
    "try:\n",
    "    with open('today.txt', 'w') as f:\n",
    "        # Write the date to the file\n",
    "        f.write(date_string)\n",
    "    print(\"file saved succesfully\")\n",
    "except Exception as e:\n",
    "    print(\"some error occured : \",e)\n",
    "\n"
   ]
  },
  {
   "cell_type": "markdown",
   "metadata": {},
   "source": [
    "## 2. Read the text file today.txt into the string today_string\n",
    "\n"
   ]
  },
  {
   "cell_type": "code",
   "execution_count": 2,
   "metadata": {},
   "outputs": [
    {
     "name": "stdout",
     "output_type": "stream",
     "text": [
      "2023-09-13\n"
     ]
    }
   ],
   "source": [
    "try:\n",
    "    with open('today.txt', 'r') as f:\n",
    "\n",
    "        today_string = f.read()\n",
    "        print(today_string)\n",
    "except Exception as e:\n",
    "    print(\"soem error has been occured : \",e)"
   ]
  },
  {
   "cell_type": "markdown",
   "metadata": {},
   "source": [
    "## 3. Parse the date from today_string.\n",
    "\n"
   ]
  },
  {
   "cell_type": "code",
   "execution_count": 3,
   "metadata": {},
   "outputs": [
    {
     "name": "stdout",
     "output_type": "stream",
     "text": [
      "todays date :  13\n"
     ]
    }
   ],
   "source": [
    "try:\n",
    "    with open('today.txt', 'r') as f:\n",
    "\n",
    "        today_string = f.read()\n",
    "    dateToday = today_string.split('-')  \n",
    "    print('todays date : ',dateToday[2])  \n",
    "except Exception as e:\n",
    "    print(\"soem error has been occured : \",e)"
   ]
  },
  {
   "cell_type": "markdown",
   "metadata": {},
   "source": [
    "## 4. List the files in your current directory\n",
    "\n"
   ]
  },
  {
   "cell_type": "code",
   "execution_count": 4,
   "metadata": {},
   "outputs": [
    {
     "name": "stdout",
     "output_type": "stream",
     "text": [
      "['Assignment_21.docx', 'assignment_21.ipynb', 'desktop.ini', 'dummy.txt', 'today.txt']\n"
     ]
    }
   ],
   "source": [
    "import os\n",
    "\n",
    "#extracting the current dir\n",
    "current_directory = os.getcwd()\n",
    "\n",
    "#list all the files\n",
    "files = os.listdir(current_directory)\n",
    "\n",
    "print(files)"
   ]
  },
  {
   "cell_type": "markdown",
   "metadata": {},
   "source": [
    "## 5. Create a list of all of the files in your parent directory (minimum five files should be available).\n",
    "\n"
   ]
  },
  {
   "cell_type": "code",
   "execution_count": 5,
   "metadata": {},
   "outputs": [
    {
     "name": "stdout",
     "output_type": "stream",
     "text": [
      "['fd.txt', 'FINISHED', 'New folder', 'PENDING', 'QUESTIONS']\n"
     ]
    }
   ],
   "source": [
    "import os\n",
    "\n",
    "parent_directory = os.path.dirname(os.getcwd())\n",
    "\n",
    "files = os.listdir(parent_directory)\n",
    "\n",
    "\n",
    "print(files)\n"
   ]
  },
  {
   "cell_type": "markdown",
   "metadata": {},
   "source": [
    "## 6. Use multiprocessing to create three separate processes. Make each one wait a random number of seconds between one and five, print the current time, and then exit.\n",
    "\n"
   ]
  },
  {
   "cell_type": "code",
   "execution_count": 8,
   "metadata": {},
   "outputs": [],
   "source": [
    "import multiprocessing\n",
    "import random,time\n",
    "\n",
    "def print_cube(num):\n",
    "    time.sleep(random.randint(1, 5))\n",
    "    print(\"Cube: {}\".format(num * num * num))\n",
    "  \n",
    "def print_square(num):\n",
    "    time.sleep(random.randint(1, 5))\n",
    "    print(\"Square: {}\".format(num * num))\n",
    "\n",
    "def print_product(num1,num2):\n",
    "    time.sleep(random.randint(1, 5))\n",
    "    print(\"product: {}\".format(num1 * num2))\n",
    "\n",
    "p1 = multiprocessing.Process(target=print_square, args=(10, ))\n",
    "p2 = multiprocessing.Process(target=print_cube, args=(10, ))\n",
    "p3 = multiprocessing.Process(target=print_product, args=(10, 5))\n",
    "\n",
    "\n",
    "p1.start()\n",
    "p2.start()\n",
    "p3.start()\n",
    "\n",
    "p1.join()\n",
    "p2.join()\n",
    "p3.join()\n",
    "\n"
   ]
  },
  {
   "cell_type": "markdown",
   "metadata": {},
   "source": [
    "## 7. Create a date object of your day of birth.\n",
    "\n"
   ]
  },
  {
   "cell_type": "code",
   "execution_count": 6,
   "metadata": {},
   "outputs": [
    {
     "name": "stdout",
     "output_type": "stream",
     "text": [
      "My dob is :  1996-07-21\n",
      "type      :  <class 'datetime.date'>\n"
     ]
    }
   ],
   "source": [
    "from datetime import date\n",
    "dob = date(1996, 7, 21)\n",
    "print(\"My dob is : \",dob)\n",
    "print(\"type      : \",type(dob))\n"
   ]
  },
  {
   "cell_type": "markdown",
   "metadata": {},
   "source": [
    "## 8. What day of the week was your day of birth?\n",
    "\n"
   ]
  },
  {
   "cell_type": "code",
   "execution_count": 9,
   "metadata": {},
   "outputs": [
    {
     "name": "stdout",
     "output_type": "stream",
     "text": [
      "my birth was on a Sunday morning\n"
     ]
    }
   ],
   "source": [
    "from datetime import datetime\n",
    "\n",
    "dob = datetime(1996, 7, 21)\n",
    "\n",
    "#weekday() gives the day of the specific date as a digit 0-monday , 6-sunday consequtively\n",
    "day = dob.weekday()\n",
    "days = [\"Monday\", \"Tuesday\", \"Wednesday\", \"Thursday\", \"Friday\", \"Saturday\", \"Sunday\"]\n",
    "day_name = days[day]\n",
    "\n",
    "print(\"my birth was on a {} morning\".format(day_name))\n"
   ]
  },
  {
   "cell_type": "markdown",
   "metadata": {},
   "source": [
    "## 9. When will you be (or when were you) 10,000 days old?"
   ]
  },
  {
   "cell_type": "code",
   "execution_count": 21,
   "metadata": {},
   "outputs": [
    {
     "name": "stdout",
     "output_type": "stream",
     "text": [
      "i will be 10000 days old on 2023-12-07\n"
     ]
    }
   ],
   "source": [
    "import datetime\n",
    "\n",
    "#giving my DOB\n",
    "dob = datetime.date(1996, 7, 21)\n",
    "\n",
    "#finding current date\n",
    "current_date = datetime.date.today()\n",
    "\n",
    "#substarcting DOB from current date , both should be datetime objects . and then substracting 10000 days\n",
    "result = (current_date - dob).days - 10000\n",
    "\n",
    "result = datetime.date.today() - datetime.timedelta(days=result)\n",
    "\n",
    "print(\"i will be 10000 days old on\", result)\n"
   ]
  }
 ],
 "metadata": {
  "kernelspec": {
   "display_name": "Python 3",
   "language": "python",
   "name": "python3"
  },
  "language_info": {
   "codemirror_mode": {
    "name": "ipython",
    "version": 3
   },
   "file_extension": ".py",
   "mimetype": "text/x-python",
   "name": "python",
   "nbconvert_exporter": "python",
   "pygments_lexer": "ipython3",
   "version": "3.9.10"
  },
  "orig_nbformat": 4
 },
 "nbformat": 4,
 "nbformat_minor": 2
}

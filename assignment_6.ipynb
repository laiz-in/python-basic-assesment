{
 "cells": [
  {
   "cell_type": "markdown",
   "metadata": {},
   "source": [
    "## 1. What are escape characters, and how do you use them?\n",
    "\n"
   ]
  },
  {
   "cell_type": "markdown",
   "metadata": {},
   "source": [
    ">escape characters are special characters that are used to represent characters that are difficult or impossible to type directly in a string"
   ]
  },
  {
   "cell_type": "code",
   "execution_count": 3,
   "metadata": {},
   "outputs": [
    {
     "name": "stdout",
     "output_type": "stream",
     "text": [
      "this is first line \n",
      "this will be in second line\n",
      "we are trying\tescape characters\n"
     ]
    }
   ],
   "source": [
    "# \\n is used for new line , let us see how we can use it\n",
    "print(\"this is first line \\nthis will be in second line\")\n",
    "\n"
   ]
  },
  {
   "cell_type": "code",
   "execution_count": 4,
   "metadata": {},
   "outputs": [
    {
     "name": "stdout",
     "output_type": "stream",
     "text": [
      "we are trying\tescape characters\n"
     ]
    }
   ],
   "source": [
    "#\\t is used for adding a tab , lets see how we can use it\n",
    "print(\"we are trying\\tescape characters\")"
   ]
  },
  {
   "cell_type": "markdown",
   "metadata": {},
   "source": [
    ">there are more excape characters like \\v(vertical tab)"
   ]
  },
  {
   "cell_type": "markdown",
   "metadata": {},
   "source": [
    "## 2. What do the escape characters n and t stand for?\n",
    "\n"
   ]
  },
  {
   "cell_type": "markdown",
   "metadata": {},
   "source": [
    "> n stands for new line\n",
    "\n",
    ">t stands for tab , we have seen both in above example"
   ]
  },
  {
   "cell_type": "markdown",
   "metadata": {},
   "source": [
    "## 3. What is the way to include backslash characters in a string?\n",
    "\n"
   ]
  },
  {
   "cell_type": "markdown",
   "metadata": {},
   "source": [
    ">adding a double backslash will add a single back slash in our string"
   ]
  },
  {
   "cell_type": "code",
   "execution_count": 5,
   "metadata": {},
   "outputs": [
    {
     "name": "stdout",
     "output_type": "stream",
     "text": [
      " printing a backslash\\\n"
     ]
    }
   ],
   "source": [
    "print(\" printing a backslash\\\\\")"
   ]
  },
  {
   "cell_type": "markdown",
   "metadata": {},
   "source": [
    "## 4. The string \"Howl's Moving Castle\" is a correct value. Why isn't the single quote character in the word Howl's not escaped a problem?\n",
    "\n"
   ]
  },
  {
   "cell_type": "code",
   "execution_count": 7,
   "metadata": {},
   "outputs": [
    {
     "name": "stdout",
     "output_type": "stream",
     "text": [
      "Howl's Moving Castle\n"
     ]
    }
   ],
   "source": [
    "print(\"Howl's Moving Castle\")\n",
    "\n",
    "#we are closing the string with enclosed double quotes , so the single quote between the string will not be a problem"
   ]
  },
  {
   "cell_type": "markdown",
   "metadata": {},
   "source": [
    "## 5. How do you write a string of newlines if you don't want to use the n character?\n",
    "\n"
   ]
  },
  {
   "cell_type": "code",
   "execution_count": 12,
   "metadata": {},
   "outputs": [
    {
     "name": "stdout",
     "output_type": "stream",
     "text": [
      "\n",
      "    this string \n",
      "    will be \n",
      "    printed in multiline\n",
      "      \n",
      "first line\n",
      "second line\n"
     ]
    }
   ],
   "source": [
    "# 1st way , using triple quotes\n",
    "print(\"\"\"\n",
    "    this string \n",
    "    will be \n",
    "    printed in multiline\n",
    "      \"\"\"\n",
    ")\n",
    "\n",
    "# 2nd way , using multiple print statements\n",
    "print(\"first line\")\n",
    "print(\"second line\")\n"
   ]
  },
  {
   "cell_type": "markdown",
   "metadata": {},
   "source": [
    "## 6. What are the values of the given expressions?\n",
    "\n"
   ]
  },
  {
   "cell_type": "code",
   "execution_count": 17,
   "metadata": {},
   "outputs": [
    {
     "name": "stdout",
     "output_type": "stream",
     "text": [
      "e\n",
      "Hello\n",
      "Hello\n",
      "lo, world!\n"
     ]
    }
   ],
   "source": [
    "print('Hello, world!'[1])\n",
    "# Extracts the chracter at index 1 , ie 'e'\n",
    "\n",
    "print('Hello, world!'[0:5])\n",
    "# Extracts characters from index 0 (inclusive) to index 4 (exclusive) from the string\n",
    "\n",
    "print('Hello, world!'[:5])\n",
    "# Extracts characters from the beginning of the string up to index 4 (exclusive).\n",
    "\n",
    "print('Hello, world!'[3:])\n",
    "# Extracts characters from index 3 (inclusive) to the end of the string."
   ]
  },
  {
   "cell_type": "markdown",
   "metadata": {},
   "source": [
    "## 7. What are the values of the following expressions?\n",
    "\n"
   ]
  },
  {
   "cell_type": "code",
   "execution_count": 19,
   "metadata": {},
   "outputs": [
    {
     "name": "stdout",
     "output_type": "stream",
     "text": [
      "HELLO\n",
      "True\n",
      "hello\n"
     ]
    }
   ],
   "source": [
    "print('Hello'.upper())\n",
    "# convert the whole string into upper case\n",
    "\n",
    "print('Hello'.upper().isupper())\n",
    "# returns a boolean value if all the characters in the string is in upper case\n",
    "\n",
    "print('Hello'.upper().lower())\n",
    "# converts all the characters to upper case and then to lower case"
   ]
  },
  {
   "cell_type": "markdown",
   "metadata": {},
   "source": [
    "## 8. What are the values of the following expressions?\n",
    "\n",
    "'Remember, remember, the fifth of July.'.split()\n",
    "\n",
    "'-'.join('There can only one.'.split())"
   ]
  },
  {
   "cell_type": "code",
   "execution_count": 23,
   "metadata": {},
   "outputs": [
    {
     "name": "stdout",
     "output_type": "stream",
     "text": [
      "['Remember,', 'remember,', 'the', 'fifth', 'of', 'July.']\n",
      "There-can-only-one.\n"
     ]
    }
   ],
   "source": [
    "x= 'Remember, remember, the fifth of July.'.split()\n",
    "#splitting the string for whitespaces , because we are not giving any arguments , then the split methos will defaultly choose whitespace\n",
    "print(x)\n",
    "\n",
    "y='-'.join('There can only one.'.split())\n",
    "#splits the string with whitespaces , then joining those strings with hyphon\n",
    "print(y)"
   ]
  },
  {
   "cell_type": "markdown",
   "metadata": {},
   "source": [
    "## 9. What are the methods for right-justifying, left-justifying, and centering a string?\n",
    "\n"
   ]
  },
  {
   "cell_type": "code",
   "execution_count": 28,
   "metadata": {},
   "outputs": [
    {
     "name": "stdout",
     "output_type": "stream",
     "text": [
      "This is a string to check \n",
      "This is a string to check \n",
      "This is a string to check \n"
     ]
    }
   ],
   "source": [
    "str = \"This is a string to check \"\n",
    "\n",
    "# Right-justify the string\n",
    "print(str.rjust(10))\n",
    "#we can also pass a fill character as an arguement , default character is whitespace\n",
    "\n",
    "\n",
    "# Left-justify the string\n",
    "print(str.ljust(10))\n",
    "\n",
    "\n",
    "# Center the string\n",
    "print(str.center(10))\n"
   ]
  },
  {
   "cell_type": "markdown",
   "metadata": {},
   "source": [
    "## 10. What is the best way to remove whitespace characters from the start or end?"
   ]
  },
  {
   "cell_type": "code",
   "execution_count": 31,
   "metadata": {},
   "outputs": [
    {
     "name": "stdout",
     "output_type": "stream",
     "text": [
      "This is a string with whitespaces.\n"
     ]
    }
   ],
   "source": [
    "x = \"       This is a string with whitespaces.\"\n",
    "\n",
    "print(x.strip())\n",
    "\n",
    "# there is lstrip() and rstrip() for specifically removing whitespace from starting or ending\n"
   ]
  }
 ],
 "metadata": {
  "kernelspec": {
   "display_name": "Python 3",
   "language": "python",
   "name": "python3"
  },
  "language_info": {
   "codemirror_mode": {
    "name": "ipython",
    "version": 3
   },
   "file_extension": ".py",
   "mimetype": "text/x-python",
   "name": "python",
   "nbconvert_exporter": "python",
   "pygments_lexer": "ipython3",
   "version": "3.9.10"
  },
  "orig_nbformat": 4
 },
 "nbformat": 4,
 "nbformat_minor": 2
}

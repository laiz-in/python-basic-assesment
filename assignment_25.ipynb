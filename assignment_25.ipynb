{
 "cells": [
  {
   "cell_type": "markdown",
   "metadata": {},
   "source": [
    "## 1. What is the difference between enclosing a list comprehension in square brackets and parentheses?\n",
    "\n"
   ]
  },
  {
   "cell_type": "markdown",
   "metadata": {},
   "source": [
    ">When you enclose a list comprehension in square brackets, it creates and returns a new list"
   ]
  },
  {
   "cell_type": "markdown",
   "metadata": {},
   "source": [
    ">When you enclose a comprehension in parentheses, it creates a generator expression. A generator expression is similar to a list comprehension in syntax, but it produces an iterator rather than a list"
   ]
  },
  {
   "cell_type": "code",
   "execution_count": 2,
   "metadata": {},
   "outputs": [
    {
     "data": {
      "text/plain": [
       "[1, 4, 9, 16, 25]"
      ]
     },
     "execution_count": 2,
     "metadata": {},
     "output_type": "execute_result"
    }
   ],
   "source": [
    "# Using square brackets \n",
    "numbers = [1, 2, 3, 4, 5]\n",
    "squared_numbers = [x**2 for x in numbers]\n",
    "squared_numbers\n",
    "#this returns another list now\n"
   ]
  },
  {
   "cell_type": "code",
   "execution_count": 6,
   "metadata": {},
   "outputs": [
    {
     "data": {
      "text/plain": [
       "<generator object <genexpr> at 0x000002A0FEB42C80>"
      ]
     },
     "execution_count": 6,
     "metadata": {},
     "output_type": "execute_result"
    }
   ],
   "source": [
    "# Using parentheses \n",
    "numbers = [1, 2, 3, 4, 5]\n",
    "squared_numbers_generator = (x**2 for x in numbers)\n",
    "squared_numbers_generator\n",
    "#this will return a generator expression"
   ]
  },
  {
   "cell_type": "markdown",
   "metadata": {},
   "source": [
    "## 2. What is the relationship between generators and iterators?\n",
    "\n"
   ]
  },
  {
   "cell_type": "markdown",
   "metadata": {},
   "source": [
    "\n",
    "A generator is a special type of function in Python that can be used to create an iterator. An iterator is an object that can be iterated over, meaning that you can use it in a for loop."
   ]
  },
  {
   "cell_type": "markdown",
   "metadata": {},
   "source": [
    "Generators are created using the yield keyword. The yield keyword pauses the execution of the function and returns a value to the caller. The function then resumes execution where it left off when the next value is requested."
   ]
  },
  {
   "cell_type": "code",
   "execution_count": 10,
   "metadata": {},
   "outputs": [
    {
     "name": "stdout",
     "output_type": "stream",
     "text": [
      "2\n",
      "4\n",
      "6\n",
      "8\n",
      "10\n"
     ]
    }
   ],
   "source": [
    "def even_numbers_generator():\n",
    "  for x in range(1, 11):\n",
    "    if x % 2 == 0:\n",
    "      yield x\n",
    "\n",
    "# Create an iterator\n",
    "even_numbers = even_numbers_generator()\n",
    "\n",
    "#iterating over the iterator we have made using a generator\n",
    "for numbers in even_numbers:\n",
    "  print(numbers)"
   ]
  },
  {
   "cell_type": "markdown",
   "metadata": {},
   "source": [
    "## 3. What are the signs that a function is a generator function?\n",
    "\n"
   ]
  },
  {
   "cell_type": "markdown",
   "metadata": {},
   "source": [
    "> use of yield keyword\n",
    "\n",
    ">no return values"
   ]
  },
  {
   "cell_type": "markdown",
   "metadata": {},
   "source": [
    "> Generator functions are typically used in for loops or with the next() function to iterate over the values they yield"
   ]
  },
  {
   "cell_type": "markdown",
   "metadata": {},
   "source": [
    "## 4. What is the purpose of a yield statement?\n",
    "\n"
   ]
  },
  {
   "cell_type": "markdown",
   "metadata": {},
   "source": [
    "\n",
    "The purpose of a yield statement is to pause the execution of a function and return a value to the caller\n",
    "\n",
    " The function then resumes execution where it left off when the next value is requested."
   ]
  },
  {
   "cell_type": "code",
   "execution_count": 11,
   "metadata": {},
   "outputs": [
    {
     "name": "stdout",
     "output_type": "stream",
     "text": [
      "2\n",
      "4\n",
      "6\n",
      "8\n",
      "10\n"
     ]
    }
   ],
   "source": [
    "def even_numbers_generator():\n",
    "  for x in range(1, 11):\n",
    "    if x % 2 == 0:\n",
    "      yield x\n",
    "      #here the code will be paused and the x variable will yielded , passedn  to the caller and then resumes the function from the next value\n",
    "\n",
    "# Create an iterator\n",
    "even_numbers = even_numbers_generator()\n",
    "\n",
    "for number in even_numbers:\n",
    "  print(number)\n"
   ]
  },
  {
   "cell_type": "markdown",
   "metadata": {},
   "source": [
    "## 5. What is the relationship between map calls and list comprehensions? Make a comparison and contrast between the two."
   ]
  },
  {
   "cell_type": "markdown",
   "metadata": {},
   "source": [
    "Map calls use the map() function, which takes a function and an iterable as arguments and returns an iterator of the results of applying the function to each element of the iterable"
   ]
  },
  {
   "cell_type": "markdown",
   "metadata": {},
   "source": [
    "it is recommended to use list comprehensions instead of map calls unless you specifically need to use a map call. List comprehensions are more concise and easier to read."
   ]
  },
  {
   "cell_type": "markdown",
   "metadata": {},
   "source": [
    "List comprehensions use a more concise syntax to achieve the same result. A list comprehension is enclosed in square brackets and consists of an expression followed by a for loop and a conditional statement."
   ]
  },
  {
   "cell_type": "code",
   "execution_count": 14,
   "metadata": {},
   "outputs": [
    {
     "name": "stdout",
     "output_type": "stream",
     "text": [
      "[1, 4, 9, 16, 25]\n",
      "[1, 4, 9, 16, 25]\n"
     ]
    }
   ],
   "source": [
    "#map fucntion\n",
    "def square(x):\n",
    "  return x * x\n",
    "\n",
    "numbers = [1, 2, 3, 4, 5]\n",
    "squared_numbers = map(square, numbers)\n",
    "print(list(squared_numbers))\n",
    "\n",
    "\n",
    "\n",
    "#list comprehensiom\n",
    "squared_numbers = [square(x) for x in numbers]\n",
    "\n",
    "print(squared_numbers)\n"
   ]
  }
 ],
 "metadata": {
  "kernelspec": {
   "display_name": "Python 3",
   "language": "python",
   "name": "python3"
  },
  "language_info": {
   "codemirror_mode": {
    "name": "ipython",
    "version": 3
   },
   "file_extension": ".py",
   "mimetype": "text/x-python",
   "name": "python",
   "nbconvert_exporter": "python",
   "pygments_lexer": "ipython3",
   "version": "3.9.10"
  },
  "orig_nbformat": 4
 },
 "nbformat": 4,
 "nbformat_minor": 2
}

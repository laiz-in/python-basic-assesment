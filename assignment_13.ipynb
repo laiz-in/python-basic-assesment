{
 "cells": [
  {
   "cell_type": "markdown",
   "metadata": {},
   "source": [
    "## 1. What advantages do Excel spreadsheets have over CSV spreadsheets?"
   ]
  },
  {
   "cell_type": "markdown",
   "metadata": {},
   "source": [
    " Excel supports a wide range of built-in formulas and functions for performing calculations and data manipulation. This is beneficial when you need to perform calculations, create summaries, or analyze data directly within the spreadsheet.\n",
    "\n",
    " Excel allows you to set up data validation rules and create drop-down lists, which can help ensure data consistency and accuracy when others are entering data into the spreadsheet.\n",
    "\n",
    "Excel workbooks can contain multiple sheets, allowing you to organize related data within a single file. This can be convenient for managing complex datasets or different aspects of a project.\n",
    "\n",
    "Excel allows for rich formatting and styling options such as bold, italic, colors, cell borders, and various font styles. This is particularly useful when you want to present data in a visually appealing manner or emphasize certain elements."
   ]
  },
  {
   "cell_type": "markdown",
   "metadata": {},
   "source": [
    "\n",
    "## 2. What do you pass to csv.reader() and csv.writer() to create reader and writer objects?"
   ]
  },
  {
   "cell_type": "code",
   "execution_count": null,
   "metadata": {},
   "outputs": [],
   "source": [
    "import csv\n",
    "\n",
    "with open('document.csv', 'r') as csvfile:\n",
    "    csv_reader = csv.reader(csvfile)\n",
    "    for row in csv_reader:\n",
    "        print(row)\n",
    "#You pass a file-like object (such as an open file or an iterable containing lines) as an argument to this function"
   ]
  },
  {
   "cell_type": "code",
   "execution_count": 1,
   "metadata": {},
   "outputs": [],
   "source": [
    "import csv\n",
    "\n",
    "with open('document.csv', 'w', newline='') as csvfile:\n",
    "    csv_writer = csv.writer(csvfile)\n",
    "    csv_writer.writerow(['Name', 'Age', 'Sate'])\n",
    "    csv_writer.writerow(['ajith', 25, 'Kerala'])\n",
    "    csv_writer.writerow(['raju', 30, 'tamilnadu'])\n",
    "\n",
    "#You pass a file-like object (such as an open file) and optionally specify the CSV dialect (e.g., delimiter, quote character) as arguments."
   ]
  },
  {
   "cell_type": "markdown",
   "metadata": {},
   "source": [
    "## 3. What modes do File objects for reader and writer objects need to be opened in?"
   ]
  },
  {
   "cell_type": "markdown",
   "metadata": {},
   "source": [
    "csv.reader()   shoul be opened in 'r' mode\n",
    "\n",
    "csv.writer()  should be opened in 'w' mode"
   ]
  },
  {
   "cell_type": "markdown",
   "metadata": {},
   "source": [
    "## 4. What method takes a list argument and writes it to a CSV file?\n",
    "\n"
   ]
  },
  {
   "cell_type": "code",
   "execution_count": null,
   "metadata": {},
   "outputs": [],
   "source": [
    "#writerow() method is used to write a list into the csv, here is how\n",
    "\n",
    "\n",
    "with open('document.csv', 'w', newline='') as csvfile:\n",
    "    csv_writer = csv.writer(csvfile)\n",
    "    csv_writer.writerow(['Name', 'Age', 'Sate'])\n",
    "    csv_writer.writerow(['ajith', 25, 'Kerala'])\n",
    "    csv_writer.writerow(['raju', 30, 'tamilnadu'])\n",
    "\n",
    "#newline property seperates the lines one by one"
   ]
  },
  {
   "cell_type": "markdown",
   "metadata": {},
   "source": [
    "## 5. What do the keyword arguments delimiter and line terminator do?\n",
    "\n"
   ]
  },
  {
   "cell_type": "code",
   "execution_count": null,
   "metadata": {},
   "outputs": [],
   "source": [
    "#The delimiter keyword argument specifies the character that should be used as the field delimiter in the CSV file.\n",
    "# The field delimiter is the character that separates individual values within a row\n",
    "\n",
    "with open('document.csv', 'w', newline='') as csvfile:\n",
    "    csv_writer = csv.writer(csvfile ,delimiter='\\t') #values will be seperated by a tab\n",
    "    csv_writer.writerow(['Name', 'Age', 'Sate'])\n",
    "    csv_writer.writerow(['ajith', 25, 'Kerala'])\n",
    "    csv_writer.writerow(['raju', 30, 'tamilnadu'])\n",
    "\n",
    "#The line_terminator keyword argument allows you to specify the character sequence that should be used to terminate each line in the CSV file.\n",
    "# by default is \\n\n",
    "\n",
    "with open('document.csv', 'w', newline='') as csvfile:\n",
    "    csv_writer = csv.writer(csvfile,lineterminator='\\r\\n') \n",
    "    csv_writer.writerow(['Name', 'Age', 'Sate'])\n",
    "    csv_writer.writerow(['ajith', 25, 'Kerala'])\n",
    "    csv_writer.writerow(['raju', 30, 'tamilnadu'])\n",
    "\n"
   ]
  },
  {
   "cell_type": "markdown",
   "metadata": {},
   "source": [
    "## 6. What function takes a string of JSON data and returns a Python data structure?"
   ]
  },
  {
   "cell_type": "markdown",
   "metadata": {},
   "source": [
    "The json module in Python provides methods for working with JSON data\n",
    "\n",
    "json.loads() is used for loading a json data and return python data"
   ]
  },
  {
   "cell_type": "code",
   "execution_count": 3,
   "metadata": {},
   "outputs": [
    {
     "name": "stdout",
     "output_type": "stream",
     "text": [
      "<class 'dict'>\n",
      "raju\n",
      "23\n"
     ]
    }
   ],
   "source": [
    "import json\n",
    "\n",
    "json_string = '{\"name\": \"raju\", \"age\": 23, \"state\": \"kerala\"}'\n",
    "python_data = json.loads(json_string)\n",
    "\n",
    "print(type(python_data)) \n",
    "print(python_data['name'])  \n",
    "print(python_data['age'])   "
   ]
  },
  {
   "cell_type": "markdown",
   "metadata": {},
   "source": [
    "## 7. What function takes a Python data structure and returns a string of JSON data?"
   ]
  },
  {
   "cell_type": "markdown",
   "metadata": {},
   "source": [
    "json.dumps() is used for loading a python data and return json "
   ]
  },
  {
   "cell_type": "code",
   "execution_count": 5,
   "metadata": {},
   "outputs": [
    {
     "name": "stdout",
     "output_type": "stream",
     "text": [
      "<class 'str'>\n",
      "{\"name\": \"raju\", \"age\": 23, \"state\": \"kerala\"}\n"
     ]
    }
   ],
   "source": [
    "import json\n",
    "\n",
    "python_data = {\n",
    "    \"name\": \"raju\",\n",
    "    \"age\": 23,\n",
    "    \"state\": \"kerala\"\n",
    "}\n",
    "\n",
    "json_string = json.dumps(python_data) #converts thye python data into json format\n",
    "\n",
    "print(type(json_string))  #prints the type of converted file\n",
    "print(json_string) #prints the json file"
   ]
  }
 ],
 "metadata": {
  "kernelspec": {
   "display_name": "Python 3",
   "language": "python",
   "name": "python3"
  },
  "language_info": {
   "codemirror_mode": {
    "name": "ipython",
    "version": 3
   },
   "file_extension": ".py",
   "mimetype": "text/x-python",
   "name": "python",
   "nbconvert_exporter": "python",
   "pygments_lexer": "ipython3",
   "version": "3.9.10"
  },
  "orig_nbformat": 4
 },
 "nbformat": 4,
 "nbformat_minor": 2
}

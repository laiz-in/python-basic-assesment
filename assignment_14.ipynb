{
 "cells": [
  {
   "cell_type": "markdown",
   "metadata": {},
   "source": [
    "## 1. What does RGBA stand for?"
   ]
  },
  {
   "cell_type": "markdown",
   "metadata": {},
   "source": [
    "RGBA stands for \"Red Green Blue Alpha.\" It is a color model used in computer graphics and design to represent colors and their transparency levels. Each component in the RGBA model corresponds to a color channel (Red, Green, Blue) and an alpha channel (transparency)."
   ]
  },
  {
   "cell_type": "markdown",
   "metadata": {},
   "source": [
    "## 2. From the Pillow module, how do you get the RGBA value of any images?\n"
   ]
  },
  {
   "cell_type": "code",
   "execution_count": 8,
   "metadata": {},
   "outputs": [
    {
     "name": "stdout",
     "output_type": "stream",
     "text": [
      "R value =  201\n",
      "G value =  175\n",
      "B value =  158\n"
     ]
    }
   ],
   "source": [
    "# all pixels in an image will be havinga diffent  RGBA values, we can not find the pixel value for the whole image\n",
    "from PIL import Image\n",
    "\n",
    "image = Image.open(\"pexels-japneet-singh-15810418.jpg\")\n",
    "\n",
    "#specify the pixel\n",
    "x = 100\n",
    "y = 153\n",
    "rgba_value = image.getpixel((x, y)) #this will return the tuple, may not always have an alpha channel\n",
    "\n",
    "print(\"R value = \",rgba_value[0])  \n",
    "print(\"G value = \",rgba_value[1])  \n",
    "print(\"B value = \",rgba_value[2])  \n",
    "\n",
    "\n"
   ]
  },
  {
   "cell_type": "markdown",
   "metadata": {},
   "source": [
    "## 3. What is a box tuple, and how does it work?\n"
   ]
  },
  {
   "cell_type": "markdown",
   "metadata": {},
   "source": [
    "its a context in PIL library\n",
    "\n",
    "used to define a specific area in a image , typically ROI( region of intrest)"
   ]
  },
  {
   "cell_type": "code",
   "execution_count": 9,
   "metadata": {},
   "outputs": [],
   "source": [
    "from PIL import Image\n",
    "\n",
    "image = Image.open(\"pexels-japneet-singh-15810418.jpg\")\n",
    "\n",
    "# define the box by giving required params , left point , upper point , right point and lower point respectively\n",
    "box = (100, 150, 300, 250)\n",
    "\n",
    "# now crop the image\n",
    "cropped_image = image.crop(box)\n",
    "\n",
    "cropped_image.save(\"cropped_image.png\")# cropped image will be saved"
   ]
  },
  {
   "cell_type": "markdown",
   "metadata": {},
   "source": [
    "## 4. Use your image and load in notebook then, How can you find out the width and height of an Image object?\n"
   ]
  },
  {
   "cell_type": "code",
   "execution_count": 14,
   "metadata": {},
   "outputs": [
    {
     "name": "stdout",
     "output_type": "stream",
     "text": [
      "width = 2839 px\n",
      "height = 3549 px\n"
     ]
    }
   ],
   "source": [
    "from PIL import Image\n",
    "\n",
    "image = Image.open(\"pexels-japneet-singh-15810418.jpg\")\n",
    "\n",
    "width, height = image.size\n",
    "#image.size returns the width and height of the image\n",
    "\n",
    "print(f\"width = {width} px\")\n",
    "print(f\"height = {height} px\")\n",
    "\n"
   ]
  },
  {
   "cell_type": "markdown",
   "metadata": {},
   "source": [
    "## 5. What method would you call to get Image object for a 100×100 image, excluding the lower-left quarter of it?"
   ]
  },
  {
   "cell_type": "code",
   "execution_count": 5,
   "metadata": {},
   "outputs": [],
   "source": [
    "from PIL import Image\n",
    "\n",
    "#load the image\n",
    "image = Image.open(\"pexels-japneet-singh-15810418.jpg\")  \n",
    "# Define the coordinates for crop the image , so we will get a 100x100 image\n",
    "left,upper,right,lower = 0,0,100,100\n",
    "cropped_image = image.crop((left, upper, right, lower))\n",
    "\n",
    "#now we have a 100x100 image\n",
    "\n",
    "cropped_image.save(\"cropped_image.jpg\")  \n",
    "cropped_image.show()\n",
    "\n",
    "width, height = cropped_image.size\n",
    "\n",
    "quarter_width = width // 2\n",
    "quarter_height = height // 2\n",
    "\n",
    "left = quarter_width\n",
    "upper = 0\n",
    "right = width\n",
    "lower = quarter_height\n",
    "\n",
    "final_image = cropped_image.crop((left, upper, right, lower))\n",
    "\n",
    "final_image.save(\"cropped_image.jpg\")  \n",
    "final_image.show() \n"
   ]
  },
  {
   "cell_type": "markdown",
   "metadata": {},
   "source": [
    "## 6. After making changes to an Image object, how could you save it as an image file?\n"
   ]
  },
  {
   "cell_type": "code",
   "execution_count": null,
   "metadata": {},
   "outputs": [],
   "source": [
    "image = Image.open(\"pexels-japneet-singh-15810418.jpg\")  \n",
    "left,upper,right,lower = 0,0,100,100\n",
    "FinalImage = image.crop((left, upper, right, lower))\n",
    "\n",
    "FinalImage.save(\"cropped_image.jpg\") \n",
    "#filename.save(\"filename to be saved\")"
   ]
  },
  {
   "cell_type": "markdown",
   "metadata": {},
   "source": [
    "## 7. What module contains Pillow’s shape-drawing code?\n",
    "\n"
   ]
  },
  {
   "cell_type": "code",
   "execution_count": 9,
   "metadata": {},
   "outputs": [],
   "source": [
    "from PIL import Image, ImageDraw\n",
    "#ImageDraw module have the options to draw on the images\n",
    "\n",
    "image = Image.open(\"pexels-japneet-singh-15810418.jpg\")\n",
    "draw = ImageDraw.Draw(image)\n",
    "#its an object of ImageDraw\n",
    "\n",
    "circle_center = (1000, 1000) \n",
    "circle_radius = 500          \n",
    "\n",
    "\n",
    "bbox = (\n",
    "    circle_center[0] - circle_radius,\n",
    "    circle_center[1] - circle_radius,\n",
    "    circle_center[0] + circle_radius,\n",
    "    circle_center[1] + circle_radius\n",
    ")\n",
    "draw.ellipse(bbox, outline=\"blue\", width=5)  \n",
    "\n",
    "image.show()\n",
    "#this block of code will draw the circle on the image usinf ImageDraw function"
   ]
  },
  {
   "cell_type": "markdown",
   "metadata": {},
   "source": [
    "## 8. Image objects do not have drawing methods. What kind of object does? How do you get this kind of object?"
   ]
  },
  {
   "cell_type": "markdown",
   "metadata": {},
   "source": [
    "Image object do not have options to draw , so we have to use ImageDraw module and create an object of the image to draw\n",
    "\n",
    "\n",
    "example is shown above"
   ]
  }
 ],
 "metadata": {
  "kernelspec": {
   "display_name": "Python 3",
   "language": "python",
   "name": "python3"
  },
  "language_info": {
   "codemirror_mode": {
    "name": "ipython",
    "version": 3
   },
   "file_extension": ".py",
   "mimetype": "text/x-python",
   "name": "python",
   "nbconvert_exporter": "python",
   "pygments_lexer": "ipython3",
   "version": "3.9.10"
  },
  "orig_nbformat": 4
 },
 "nbformat": 4,
 "nbformat_minor": 2
}

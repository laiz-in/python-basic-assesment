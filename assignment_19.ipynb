{
 "cells": [
  {
   "cell_type": "markdown",
   "metadata": {},
   "source": [
    "## 1. Make a class called Thing with no contents and print it. Then, create an object called example from this class and also print it. Are the printed values the same or different?\n",
    "\n"
   ]
  },
  {
   "cell_type": "code",
   "execution_count": 5,
   "metadata": {},
   "outputs": [
    {
     "name": "stdout",
     "output_type": "stream",
     "text": [
      "Class: <class '__main__.Thing'>\n",
      "Object: <__main__.Thing object at 0x0000023F57F1C700>\n"
     ]
    }
   ],
   "source": [
    "class Thing:\n",
    "    pass\n",
    "\n",
    "ob = Thing()\n",
    "\n",
    "print(\"Class:\", Thing)\n",
    "print(\"Object:\", ob)\n",
    "\n",
    "#printed values are different"
   ]
  },
  {
   "cell_type": "markdown",
   "metadata": {},
   "source": [
    "## 2. Create a new class called Thing2 and add the value 'abc' to the letters class attribute. Letters should be printed.\n",
    "\n"
   ]
  },
  {
   "cell_type": "code",
   "execution_count": 7,
   "metadata": {},
   "outputs": [
    {
     "data": {
      "text/plain": [
       "'abc'"
      ]
     },
     "execution_count": 7,
     "metadata": {},
     "output_type": "execute_result"
    }
   ],
   "source": [
    "class thing2:\n",
    "    letters = 'abc'\n",
    "\n",
    "\n",
    "thing2.letters"
   ]
  },
  {
   "cell_type": "markdown",
   "metadata": {},
   "source": [
    "## 3. Make yet another class called, of course, Thing3. This time, assign the value 'xyz' to an instance (object) attribute called letters. Print letters. Do you need to make an object from the class to do this?\n",
    "\n"
   ]
  },
  {
   "cell_type": "code",
   "execution_count": 11,
   "metadata": {},
   "outputs": [
    {
     "name": "stdout",
     "output_type": "stream",
     "text": [
      "Letters: xyz\n"
     ]
    }
   ],
   "source": [
    "class Thing3:\n",
    "    def __init__(self):\n",
    "        self.letters = 'xyz'\n",
    "\n",
    "inst = Thing3()\n",
    "\n",
    "#print the letters using instance\n",
    "print(\"Letters:\", inst.letters)\n"
   ]
  },
  {
   "cell_type": "markdown",
   "metadata": {},
   "source": [
    "## 4. Create an Element class with the instance attributes name, symbol, and number. Create a class object with the values 'Hydrogen,' 'H,' and 1.\n",
    "\n"
   ]
  },
  {
   "cell_type": "code",
   "execution_count": 13,
   "metadata": {},
   "outputs": [
    {
     "name": "stdout",
     "output_type": "stream",
     "text": [
      "Name: Hydrogen\n",
      "Symbol: H\n",
      "Number: 1\n"
     ]
    }
   ],
   "source": [
    "class element:\n",
    "    def __init__(self, name, symbol, number):\n",
    "        self.name = name\n",
    "        self.symbol = symbol\n",
    "        self.number = number\n",
    "\n",
    "classobject = element('Hydrogen', 'H', 1)\n",
    "\n",
    "print(\"Name:\", classobject.name)\n",
    "print(\"Symbol:\", classobject.symbol)\n",
    "print(\"Number:\", classobject.number)\n"
   ]
  },
  {
   "cell_type": "markdown",
   "metadata": {},
   "source": [
    "## 5. Make a dictionary with these keys and values: 'name': 'Hydrogen', 'symbol': 'H', 'number': 1. Then, create an object called hydrogen from class Element using this dictionary.\n",
    "\n"
   ]
  },
  {
   "cell_type": "code",
   "execution_count": 25,
   "metadata": {},
   "outputs": [
    {
     "name": "stdout",
     "output_type": "stream",
     "text": [
      "Hydrogen H 1\n"
     ]
    }
   ],
   "source": [
    "dict={\n",
    "    'name':'Hydrogen',\n",
    "    'symbol': 'H',\n",
    "    'number':1\n",
    "}\n",
    "\n",
    "class element:\n",
    "    def __init__(self, name, symbol, number):\n",
    "        self.name = name\n",
    "        self.symbol = symbol\n",
    "        self.number = number\n",
    "\n",
    "hydrogen = element(**dict)\n",
    "print(hydrogen.name,\n",
    "      hydrogen.symbol,\n",
    "      hydrogen.number)"
   ]
  },
  {
   "cell_type": "markdown",
   "metadata": {},
   "source": [
    "## 6. For the Element class, define a method called dump() that prints the values of the object’s attributes (name, symbol, and number). Create the hydrogen object from this new definition and use dump() to print its attributes.\n",
    "\n"
   ]
  },
  {
   "cell_type": "code",
   "execution_count": 30,
   "metadata": {},
   "outputs": [
    {
     "name": "stdout",
     "output_type": "stream",
     "text": [
      "Name: Hydrogen\n",
      "Symbol: H\n",
      "Number: 1\n"
     ]
    }
   ],
   "source": [
    "class element:\n",
    "    def __init__(self, name, symbol, number):\n",
    "        self.name = name\n",
    "        self.symbol = symbol\n",
    "        self.number = number\n",
    "    def dump(self):\n",
    "        print(\"Name:\", self.name)\n",
    "        print(\"Symbol:\", self.symbol)\n",
    "        print(\"Number:\", self.number)\n",
    "    \n",
    "instance= element('Hydrogen','H',1)\n",
    "\n",
    "instance.dump()"
   ]
  },
  {
   "cell_type": "markdown",
   "metadata": {},
   "source": [
    "## 7. Call print(hydrogen). In the definition of Element, change the name of method dump to __str__, create a new hydrogen object, and call print(hydrogen) again.\n",
    "\n"
   ]
  },
  {
   "cell_type": "code",
   "execution_count": 33,
   "metadata": {},
   "outputs": [
    {
     "name": "stdout",
     "output_type": "stream",
     "text": [
      "Name: Hydrogen, Symbol: H, Number: 1\n"
     ]
    }
   ],
   "source": [
    "class element:\n",
    "    def __init__(self, name, symbol, number):\n",
    "        self.name = name\n",
    "        self.symbol = symbol\n",
    "        self.number = number\n",
    "    \n",
    "    def __str__(self):\n",
    "        return f\"Name: {self.name}, Symbol: {self.symbol}, Number: {self.number}\"\n",
    "\n",
    "new_hydrogen = element('Hydrogen', 'H', 1)\n",
    "\n",
    "print(new_hydrogen)\n"
   ]
  },
  {
   "cell_type": "markdown",
   "metadata": {},
   "source": [
    "## 8. Modify Element to make the attributes name, symbol, and number private. Define a getter property for each to return its value.\n",
    "\n"
   ]
  },
  {
   "cell_type": "code",
   "execution_count": 34,
   "metadata": {},
   "outputs": [
    {
     "name": "stdout",
     "output_type": "stream",
     "text": [
      "Name: Hydrogen\n",
      "Symbol: H\n",
      "Number: 1\n"
     ]
    }
   ],
   "source": [
    "class Element:\n",
    "    def __init__(self, name, symbol, number):\n",
    "        self.__name = name\n",
    "        self.__symbol = symbol\n",
    "        self.__number = number\n",
    "    # @propert \n",
    "    @property\n",
    "    def name(self):\n",
    "        return self.__name\n",
    "    \n",
    "    @property\n",
    "    def symbol(self):\n",
    "        return self.__symbol\n",
    "    \n",
    "    @property\n",
    "    def number(self):\n",
    "        return self.__number\n",
    "\n",
    "hydrogen = Element('Hydrogen', 'H', 1)\n",
    "\n",
    "print(\"Name:\", hydrogen.name)\n",
    "print(\"Symbol:\", hydrogen.symbol)\n",
    "print(\"Number:\", hydrogen.number)\n"
   ]
  },
  {
   "cell_type": "markdown",
   "metadata": {},
   "source": [
    "## 9. Define three classes: Bear, Rabbit, and Octothorpe. For each, define only one method: eats(). This should return 'berries' (Bear), 'clover' (Rabbit), or 'campers' (Octothorpe). Create one object from each and print what it eats.\n",
    "\n"
   ]
  },
  {
   "cell_type": "code",
   "execution_count": 41,
   "metadata": {},
   "outputs": [
    {
     "name": "stdout",
     "output_type": "stream",
     "text": [
      "bear eats  berries\n",
      "rabbit eats  clover\n",
      "octothorpe eats  campers\n"
     ]
    }
   ],
   "source": [
    "class bear:\n",
    "     def eats(self):\n",
    "          return (\"berries\")\n",
    "\n",
    "class rabbit:\n",
    "     def eats(self):\n",
    "          return(\"clover\")\n",
    "\n",
    "class octothorpe:\n",
    "     def eats(self):\n",
    "          return(\"campers\")\n",
    "\n",
    "bea= bear()\n",
    "rab =rabbit()\n",
    "oct = octothorpe()\n",
    "\n",
    "print(\"bear eats \",bea.eats())\n",
    "print(\"rabbit eats \",rab.eats())\n",
    "print(\"octothorpe eats \",oct.eats())"
   ]
  },
  {
   "cell_type": "markdown",
   "metadata": {},
   "source": [
    "## 10. Define these classes: Laser, Claw, and SmartPhone. Each has only one method: does(). This returns 'disintegrate' (Laser), 'crush' (Claw), or 'ring' (SmartPhone). Then, define the class Robot that has one instance (object) of each of these. Define a does() method for the Robot that prints what its component objects do."
   ]
  },
  {
   "cell_type": "code",
   "execution_count": 44,
   "metadata": {},
   "outputs": [
    {
     "name": "stdout",
     "output_type": "stream",
     "text": [
      "Laser: disintegrate, Claw: crush, SmartPhone: ring\n"
     ]
    }
   ],
   "source": [
    "class Laser:\n",
    "    def does(self):\n",
    "        return \"disintegrate\"\n",
    "class Claw:\n",
    "    def does(self):\n",
    "        return \"crush\"\n",
    "class Smartphone:\n",
    "    def does(self):\n",
    "        return \"ring\"\n",
    "\n",
    "class robot:\n",
    "    def __init__(self):\n",
    "        self.laser = Laser()      \n",
    "        self.claw = Claw()        \n",
    "        self.smartphone = Smartphone()  \n",
    "    \n",
    "    def does(self):\n",
    "        laser_does= self.laser.does()\n",
    "        claw_does= self.claw.does()\n",
    "        smartphone_does = self.smartphone.does()\n",
    "        \n",
    "        return f\"Laser: {laser_does}, Claw: {claw_does}, SmartPhone: {smartphone_does}\"\n",
    "\n",
    "robot = robot()\n",
    "print(robot.does())"
   ]
  }
 ],
 "metadata": {
  "kernelspec": {
   "display_name": "Python 3",
   "language": "python",
   "name": "python3"
  },
  "language_info": {
   "codemirror_mode": {
    "name": "ipython",
    "version": 3
   },
   "file_extension": ".py",
   "mimetype": "text/x-python",
   "name": "python",
   "nbconvert_exporter": "python",
   "pygments_lexer": "ipython3",
   "version": "3.9.10"
  },
  "orig_nbformat": 4
 },
 "nbformat": 4,
 "nbformat_minor": 2
}

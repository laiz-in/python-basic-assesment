{
 "cells": [
  {
   "attachments": {},
   "cell_type": "markdown",
   "metadata": {},
   "source": [
    "# 1. Create an assert statement that throws an AssertionError if the variable spam is a negative integer.\n"
   ]
  },
  {
   "cell_type": "code",
   "execution_count": 6,
   "metadata": {},
   "outputs": [
    {
     "ename": "AssertionError",
     "evalue": "SpamNumber should be a positive value or 0",
     "output_type": "error",
     "traceback": [
      "\u001b[1;31m---------------------------------------------------------------------------\u001b[0m",
      "\u001b[1;31mAssertionError\u001b[0m                            Traceback (most recent call last)",
      "Cell \u001b[1;32mIn[6], line 5\u001b[0m\n\u001b[0;32m      1\u001b[0m \u001b[39mdef\u001b[39;00m \u001b[39mAssertionError\u001b[39m(SpamNumber):\n\u001b[0;32m      3\u001b[0m      \u001b[39massert\u001b[39;00m SpamNumber \u001b[39m>\u001b[39m\u001b[39m=\u001b[39m \u001b[39m0\u001b[39m, \u001b[39m\"\u001b[39m\u001b[39mSpamNumber should be a positive value or 0\u001b[39m\u001b[39m\"\u001b[39m\n\u001b[1;32m----> 5\u001b[0m \u001b[39mAssertionError\u001b[39;49;00m(\u001b[39m-\u001b[39;49m\u001b[39m9\u001b[39;49m)\n",
      "Cell \u001b[1;32mIn[6], line 3\u001b[0m, in \u001b[0;36mAssertionError\u001b[1;34m(SpamNumber)\u001b[0m\n\u001b[0;32m      1\u001b[0m \u001b[39mdef\u001b[39;00m \u001b[39mAssertionError\u001b[39m(SpamNumber):\n\u001b[1;32m----> 3\u001b[0m      \u001b[39massert\u001b[39;00m SpamNumber \u001b[39m>\u001b[39m\u001b[39m=\u001b[39m \u001b[39m0\u001b[39m, \u001b[39m\"\u001b[39m\u001b[39mSpamNumber should be a positive value or 0\u001b[39m\u001b[39m\"\u001b[39m\n",
      "\u001b[1;31mAssertionError\u001b[0m: SpamNumber should be a positive value or 0"
     ]
    }
   ],
   "source": [
    "def AssertionError(SpamNumber):\n",
    "\n",
    "     assert SpamNumber >= 0, \"SpamNumber should be a positive value or 0\"\n",
    "\n",
    "AssertionError(-9)"
   ]
  },
  {
   "attachments": {},
   "cell_type": "markdown",
   "metadata": {},
   "source": [
    "# 2. Write an assert statement that triggers an AssertionError if the variables eggs and bacon contain strings that are the same as each other, even if their cases are different (that is, 'hello' and 'hello' are considered the same, and 'goodbye' and 'GOODbye' are also considered the same).\n",
    "\n"
   ]
  },
  {
   "cell_type": "code",
   "execution_count": 8,
   "metadata": {},
   "outputs": [
    {
     "ename": "AssertionError",
     "evalue": "this assertion is raised because eggs and bacon have same values of strings (case-insensitive)",
     "output_type": "error",
     "traceback": [
      "\u001b[1;31m---------------------------------------------------------------------------\u001b[0m",
      "\u001b[1;31mAssertionError\u001b[0m                            Traceback (most recent call last)",
      "Cell \u001b[1;32mIn[8], line 8\u001b[0m\n\u001b[0;32m      6\u001b[0m eggs\u001b[39m=\u001b[39m \u001b[39m\"\u001b[39m\u001b[39mstrings are same\u001b[39m\u001b[39m\"\u001b[39m\n\u001b[0;32m      7\u001b[0m bacon\u001b[39m=\u001b[39m\u001b[39m\"\u001b[39m\u001b[39mStrinGs are Same\u001b[39m\u001b[39m\"\u001b[39m\n\u001b[1;32m----> 8\u001b[0m AssertionStringError(eggs,bacon)\n",
      "Cell \u001b[1;32mIn[8], line 2\u001b[0m, in \u001b[0;36mAssertionStringError\u001b[1;34m(eggs, bacon)\u001b[0m\n\u001b[0;32m      1\u001b[0m \u001b[39mdef\u001b[39;00m \u001b[39mAssertionStringError\u001b[39m(eggs,bacon):\n\u001b[1;32m----> 2\u001b[0m     \u001b[39massert\u001b[39;00m eggs\u001b[39m.\u001b[39mlower() \u001b[39m!=\u001b[39m bacon\u001b[39m.\u001b[39mlower(), \u001b[39m\"\u001b[39m\u001b[39mthis assertion is raised because eggs and bacon have same values of strings (case-insensitive)\u001b[39m\u001b[39m\"\u001b[39m\n",
      "\u001b[1;31mAssertionError\u001b[0m: this assertion is raised because eggs and bacon have same values of strings (case-insensitive)"
     ]
    }
   ],
   "source": [
    "def AssertionStringError(eggs,bacon):\n",
    "    assert eggs.lower() != bacon.lower(), \"this assertion is raised because eggs and bacon have same values of strings (case-insensitive)\"\n",
    "    #If the condition is False, an AssertionError is raised, error message is printed\n",
    "    #lower() function is used to convert both the strings into lower case \n",
    "\n",
    "eggs= \"strings are same\"\n",
    "bacon=\"StrinGs are Same\"\n",
    "AssertionStringError(eggs,bacon)\n"
   ]
  },
  {
   "attachments": {},
   "cell_type": "markdown",
   "metadata": {},
   "source": [
    "# 3. Create an assert statement that throws an AssertionError every time."
   ]
  },
  {
   "attachments": {},
   "cell_type": "markdown",
   "metadata": {},
   "source": [
    "* how an assert statement works is , when the condition gets false the assertion throws an error , if we always want to throw an error\n",
    "we can give the condition as False\n"
   ]
  },
  {
   "cell_type": "code",
   "execution_count": 9,
   "metadata": {},
   "outputs": [
    {
     "ename": "AssertionError",
     "evalue": "this assertion is raised always because , the condition is False",
     "output_type": "error",
     "traceback": [
      "\u001b[1;31m---------------------------------------------------------------------------\u001b[0m",
      "\u001b[1;31mAssertionError\u001b[0m                            Traceback (most recent call last)",
      "Cell \u001b[1;32mIn[9], line 8\u001b[0m\n\u001b[0;32m      6\u001b[0m eggs\u001b[39m=\u001b[39m \u001b[39m\"\u001b[39m\u001b[39mstrings are same\u001b[39m\u001b[39m\"\u001b[39m\n\u001b[0;32m      7\u001b[0m bacon\u001b[39m=\u001b[39m\u001b[39m\"\u001b[39m\u001b[39mStrinGs are Same\u001b[39m\u001b[39m\"\u001b[39m\n\u001b[1;32m----> 8\u001b[0m AssertionStringError(eggs,bacon)\n",
      "Cell \u001b[1;32mIn[9], line 2\u001b[0m, in \u001b[0;36mAssertionStringError\u001b[1;34m(eggs, bacon)\u001b[0m\n\u001b[0;32m      1\u001b[0m \u001b[39mdef\u001b[39;00m \u001b[39mAssertionStringError\u001b[39m(eggs,bacon):\n\u001b[1;32m----> 2\u001b[0m     \u001b[39massert\u001b[39;00m \u001b[39mFalse\u001b[39;00m , \u001b[39m\"\u001b[39m\u001b[39mthis assertion is raised always because , the condition is False\u001b[39m\u001b[39m\"\u001b[39m\n",
      "\u001b[1;31mAssertionError\u001b[0m: this assertion is raised always because , the condition is False"
     ]
    }
   ],
   "source": [
    "def AssertionStringError(eggs,bacon):\n",
    "    assert False , \"this assertion is raised always because , the condition is False\"\n",
    "    #If the condition is False, an AssertionError is raised, error message is printed\n",
    "    #lower() function is used to convert both the strings into lower case \n",
    "\n",
    "eggs= \"strings are same\"\n",
    "bacon=\"StrinGs are Same\"\n",
    "AssertionStringError(eggs,bacon)\n"
   ]
  },
  {
   "attachments": {},
   "cell_type": "markdown",
   "metadata": {},
   "source": [
    "4. What are the two lines that must be present in your software in order to call logging.debug()?\n",
    "\n"
   ]
  },
  {
   "attachments": {},
   "cell_type": "markdown",
   "metadata": {},
   "source": [
    "* we must import logging\n",
    "\n",
    "* we must configure the logging level\n",
    "\n",
    "  logging.basicConfig(level=logging.DEBUG)"
   ]
  },
  {
   "cell_type": "code",
   "execution_count": null,
   "metadata": {},
   "outputs": [],
   "source": [
    "import logging\n",
    "logging.basicConfig(level=logging.WARNING)"
   ]
  },
  {
   "attachments": {},
   "cell_type": "markdown",
   "metadata": {},
   "source": [
    "# 5. What are the two lines that your program must have in order to have logging.debug() send a logging message to a file named programLog.txt?\n",
    "\n"
   ]
  },
  {
   "attachments": {},
   "cell_type": "markdown",
   "metadata": {},
   "source": [
    "* we must import logging\n",
    "\n",
    "* configure the logging module with the filename and logging level"
   ]
  },
  {
   "cell_type": "code",
   "execution_count": null,
   "metadata": {},
   "outputs": [],
   "source": [
    "import logging\n",
    "logging.basicConfig(filename=\"log.txt\",level=logging.INFO)"
   ]
  },
  {
   "attachments": {},
   "cell_type": "markdown",
   "metadata": {},
   "source": [
    "# 6. What are the five levels of logging?\n"
   ]
  },
  {
   "attachments": {},
   "cell_type": "markdown",
   "metadata": {},
   "source": [
    "1. WARNING\n",
    "2. CRITICAL\n",
    "3. ERROR\n",
    "4. INFO\n",
    "5. DEBUG"
   ]
  },
  {
   "cell_type": "code",
   "execution_count": 6,
   "metadata": {},
   "outputs": [
    {
     "name": "stderr",
     "output_type": "stream",
     "text": [
      "DEBUG:root:this is for debug\n",
      "INFO:root:this is for info\n",
      "ERROR:root:this is for error message\n",
      "WARNING:root:this is just warning\n"
     ]
    }
   ],
   "source": [
    "import logging\n",
    "\n",
    "\n",
    "logging.basicConfig(level=logging.DEBUG)\n",
    "logging.debug('this is for debug')\n",
    "\n",
    "logging.basicConfig(level=logging.INFO)\n",
    "logging.info('this is for info')\n",
    "\n",
    "logging.basicConfig(level=logging.ERROR)\n",
    "logging.error('this is for error message')\n",
    "\n",
    "logging.basicConfig(level=logging.WARNING)\n",
    "logging.warning('this is just warning')"
   ]
  },
  {
   "attachments": {},
   "cell_type": "markdown",
   "metadata": {},
   "source": [
    "# 7. What line of code would you add to your software to disable all logging messages?\n"
   ]
  },
  {
   "cell_type": "code",
   "execution_count": 8,
   "metadata": {},
   "outputs": [],
   "source": [
    "import logging\n",
    "logging.disable(logging.CRITICAL + 1)\n",
    "#this line will disable all kinds of loggings , without any level concern"
   ]
  },
  {
   "attachments": {},
   "cell_type": "markdown",
   "metadata": {},
   "source": [
    "8.Why is using logging messages better than using print() to display the same message?\n"
   ]
  },
  {
   "attachments": {},
   "cell_type": "markdown",
   "metadata": {},
   "source": [
    "* we can easily save the messages of any level , print() is used to print something in the console \n",
    "\n",
    "* we can also log the messages to a text file , with timestamp . thats even more useful when debugging or checking the perfomance"
   ]
  },
  {
   "attachments": {},
   "cell_type": "markdown",
   "metadata": {},
   "source": [
    "# 9. What are the differences between the Step Over, Step In, and Step Out buttons in the debugger?\n"
   ]
  },
  {
   "attachments": {},
   "cell_type": "markdown",
   "metadata": {},
   "source": [
    "1. step Over\n",
    " * runs the current line of code , and execute the next line in same function\n",
    " * If there is a function call on the current line, it will be executed as a whole, and the debugger will move to the next line in the current function.\n",
    " \n",
    "2. Step In\n",
    " * Moves the debugger to the next line of code, stepping into any function call encountered.\n",
    " * step into a function call and move the debugger to the first line of the called function.\n",
    "\n",
    "3. Step Out \n",
    " * Executes the remaining lines of the current function and moves the debugger to the next line in the calling function\n",
    " * when you want to quickly execute the remaining lines of the current function and move back to the calling function\n",
    " \n"
   ]
  },
  {
   "attachments": {},
   "cell_type": "markdown",
   "metadata": {},
   "source": [
    "# 10.After you click Continue, when will the debugger stop ?\n"
   ]
  },
  {
   "attachments": {},
   "cell_type": "markdown",
   "metadata": {},
   "source": [
    "Debugger will execute the program unitl further break or unitl a condition is met\n",
    "there are a few things that we have to use in debugger\n",
    "\n",
    "* breakpoint\n",
    "* exception or error\n",
    "* termination\n",
    "\n",
    "breakpoint is set to break the execution of coding at a certain level\n",
    "\n",
    "exception of error will also cause thre program to stop , if the exception or the error is not handled\n",
    "\n",
    "debugger will catch the termination of the program , so we can analyze the whole perfomance of the code"
   ]
  },
  {
   "attachments": {},
   "cell_type": "markdown",
   "metadata": {},
   "source": [
    "# 11. What is the concept of a breakpoint?"
   ]
  },
  {
   "attachments": {},
   "cell_type": "markdown",
   "metadata": {},
   "source": [
    "* Breakpoint is set at a specific line of code, the debugger will halt the execution when it reaches that line. Breakpoints allow you to pause the program at specific points of interest to examine the state of variables and debug any issues."
   ]
  },
  {
   "attachments": {},
   "cell_type": "markdown",
   "metadata": {},
   "source": [
    "* IDE we use will have an option to set breakpoint , and usaully visualized as red dot"
   ]
  }
 ],
 "metadata": {
  "kernelspec": {
   "display_name": "Python 3",
   "language": "python",
   "name": "python3"
  },
  "language_info": {
   "codemirror_mode": {
    "name": "ipython",
    "version": 3
   },
   "file_extension": ".py",
   "mimetype": "text/x-python",
   "name": "python",
   "nbconvert_exporter": "python",
   "pygments_lexer": "ipython3",
   "version": "3.9.10"
  },
  "orig_nbformat": 4
 },
 "nbformat": 4,
 "nbformat_minor": 2
}
